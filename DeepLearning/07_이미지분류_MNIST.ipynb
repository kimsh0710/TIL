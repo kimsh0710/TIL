{
  "nbformat": 4,
  "nbformat_minor": 0,
  "metadata": {
    "colab": {
      "provenance": []
    },
    "kernelspec": {
      "name": "python3",
      "display_name": "Python 3"
    },
    "language_info": {
      "name": "python"
    }
  },
  "cells": [
    {
      "cell_type": "markdown",
      "source": [
        "## 컨볼루션 신경망(CNN)"
      ],
      "metadata": {
        "id": "k1InL4WLOPhG"
      }
    },
    {
      "cell_type": "markdown",
      "source": [
        "* MNIST가 가지는 이미지는 높이 28, 너비 28 픽셀로 총 784 픽셀(28*28). 이 픽셀 값은 0에서 255 사이의 정수.  \n",
        "* train 데이터의 맨 앞 열 이미지에 있는 숫자를 나타내고 나머지 784개의 열은 이미지가 갖고 있는 784개의 픽셀을 의미\n",
        "* 따라서 label은 0 ~ 9의 값을 갖고, 나머지 784개의 열은 0 ~ 255 값을  갖는다."
      ],
      "metadata": {
        "id": "Vykq8zesSdtk"
      }
    },
    {
      "cell_type": "markdown",
      "source": [
        "### 1. 이미지를 인식하는 원리"
      ],
      "metadata": {
        "id": "GNNl8VjpOPqA"
      }
    },
    {
      "cell_type": "code",
      "execution_count": 2,
      "metadata": {
        "colab": {
          "base_uri": "https://localhost:8080/"
        },
        "id": "oonrmn_7OEva",
        "outputId": "a7ee9610-9efa-42e3-81b1-cad34b25ce67"
      },
      "outputs": [
        {
          "output_type": "stream",
          "name": "stdout",
          "text": [
            "Downloading data from https://storage.googleapis.com/tensorflow/tf-keras-datasets/mnist.npz\n",
            "11490434/11490434 [==============================] - 0s 0us/step\n",
            "학습셋 이미지 수: 60000 개\n",
            "테스트셋 이미지 수: 10000 개\n"
          ]
        }
      ],
      "source": [
        "from tensorflow.keras.datasets import mnist\n",
        "from tensorflow.keras.utils import to_categorical\n",
        "\n",
        "import matplotlib.pyplot as plt\n",
        "import sys\n",
        "\n",
        "# MNIST 데이터셋을 불러와 학습셋과 테스트셋으로 저장\n",
        "(X_train, y_train), (X_test, y_test) = mnist.load_data()\n",
        "\n",
        "# 학습셋과 테스트셋이 각각 몇 개의 이미지로 되어 있는지 확인\n",
        "print(\"학습셋 이미지 수: %d 개\" % (X_train.shape[0]))\n",
        "print(\"테스트셋 이미지 수: %d 개\" % (X_test.shape[0]))"
      ]
    },
    {
      "cell_type": "markdown",
      "source": [
        "* 케라스의 MNIST 데이터는 총 70,000개의 이미지 중 60,000개를 학습용\n",
        "으로, 10,000개를 테스트용으로 미리 구분해 놓고 있음\n",
        "* X_train, y_train, X_test, y_test은 각각 60000x784, 60000x1, 10000x784, 10000x1의 크기로 각각이 1차원 배열로 되어 있다."
      ],
      "metadata": {
        "id": "_Uqo4UzQUclx"
      }
    },
    {
      "cell_type": "code",
      "source": [
        "# 첫번째 이미지 확인\n",
        "plt.imshow(X_train[0], cmap='Greys')\n",
        "plt.show()"
      ],
      "metadata": {
        "colab": {
          "base_uri": "https://localhost:8080/",
          "height": 430
        },
        "id": "WSgbsHJaPZTo",
        "outputId": "01a67d90-01fe-49f9-cf04-600335c65234"
      },
      "execution_count": 3,
      "outputs": [
        {
          "output_type": "display_data",
          "data": {
            "text/plain": [
              "<Figure size 640x480 with 1 Axes>"
            ],
            "image/png": "[encoded data removed]"
          },
          "metadata": {}
        }
      ]
    },
    {
      "cell_type": "markdown",
      "source": [
        "* 이미지는 가로 28 × 세로 28 = 총 784개의 픽셀로 이루어져 있음\n",
        "* 각 픽셀은 밝기 정도에 따라 0부터 255까지 의 등급을 매김\n",
        "* 흰색 배경이 0이라면 글씨가 들어간 곳은 1~255까지 숫자 중 하나로 채\n",
        "워져 긴 행렬로 이루어진 하나의 집합으로 변환됨"
      ],
      "metadata": {
        "id": "QoORc1PjVYiz"
      }
    },
    {
      "cell_type": "code",
      "source": [
        "# 이미지가 인식되는 원리\n",
        "# X_train은 학습 데이터로, 각 원소는 이미지를 나타내는 픽셀들로 구성되어 있음.\n",
        "for x in X_train[0]: # X_train의 첫번째 이미지에서 각 픽셀을 순회하는 루프 시작\n",
        "  for i in x: # x는 이미지의 한 행을 나타냄 -> 한 행의 각 픽셀 값을 순회하는 루프 시작\n",
        "    sys.stdout.write(\"%-3s\" % i)\n",
        "    # sys.stdout.write : 텍스트를 표준 출력\n",
        "    # \"%-3s\" % i : i 값을 문자열로 변환. 그 값을 3칸의 공간을 가진 형태로 출력\n",
        "  sys.stdout.write('\\n') # 행의 끝에 도달했을 때, 줄을 바꿔서 다음 행으로 넘어가기 위해 개행(newline) 문자를 출력하는 코드"
      ],
      "metadata": {
        "colab": {
          "base_uri": "https://localhost:8080/"
        },
        "id": "Qi0w30vpPyxt",
        "outputId": "4ed31516-39f0-405f-c44e-4d48e1a0226a"
      },
      "execution_count": 4,
      "outputs": [
        {
          "output_type": "stream",
          "name": "stdout",
          "text": [
            "0  0  0  0  0  0  0  0  0  0  0  0  0  0  0  0  0  0  0  0  0  0  0  0  0  0  0  0  \n",
            "0  0  0  0  0  0  0  0  0  0  0  0  0  0  0  0  0  0  0  0  0  0  0  0  0  0  0  0  \n",
            "0  0  0  0  0  0  0  0  0  0  0  0  0  0  0  0  0  0  0  0  0  0  0  0  0  0  0  0  \n",
            "0  0  0  0  0  0  0  0  0  0  0  0  0  0  0  0  0  0  0  0  0  0  0  0  0  0  0  0  \n",
            "0  0  0  0  0  0  0  0  0  0  0  0  0  0  0  0  0  0  0  0  0  0  0  0  0  0  0  0  \n",
            "0  0  0  0  0  0  0  0  0  0  0  0  3  18 18 18 12613617526 1662552471270  0  0  0  \n",
            "0  0  0  0  0  0  0  0  30 36 94 15417025325325325325322517225324219564 0  0  0  0  \n",
            "0  0  0  0  0  0  0  49 23825325325325325325325325325193 82 82 56 39 0  0  0  0  0  \n",
            "0  0  0  0  0  0  0  18 2192532532532532531981822472410  0  0  0  0  0  0  0  0  0  \n",
            "0  0  0  0  0  0  0  0  80 15610725325320511 0  43 1540  0  0  0  0  0  0  0  0  0  \n",
            "0  0  0  0  0  0  0  0  0  14 1  15425390 0  0  0  0  0  0  0  0  0  0  0  0  0  0  \n",
            "0  0  0  0  0  0  0  0  0  0  0  1392531902  0  0  0  0  0  0  0  0  0  0  0  0  0  \n",
            "0  0  0  0  0  0  0  0  0  0  0  11 19025370 0  0  0  0  0  0  0  0  0  0  0  0  0  \n",
            "0  0  0  0  0  0  0  0  0  0  0  0  35 2412251601081  0  0  0  0  0  0  0  0  0  0  \n",
            "0  0  0  0  0  0  0  0  0  0  0  0  0  81 24025325311925 0  0  0  0  0  0  0  0  0  \n",
            "0  0  0  0  0  0  0  0  0  0  0  0  0  0  45 18625325315027 0  0  0  0  0  0  0  0  \n",
            "0  0  0  0  0  0  0  0  0  0  0  0  0  0  0  16 93 2522531870  0  0  0  0  0  0  0  \n",
            "0  0  0  0  0  0  0  0  0  0  0  0  0  0  0  0  0  24925324964 0  0  0  0  0  0  0  \n",
            "0  0  0  0  0  0  0  0  0  0  0  0  0  0  46 1301832532532072  0  0  0  0  0  0  0  \n",
            "0  0  0  0  0  0  0  0  0  0  0  0  39 1482292532532532501820  0  0  0  0  0  0  0  \n",
            "0  0  0  0  0  0  0  0  0  0  24 11422125325325325320178 0  0  0  0  0  0  0  0  0  \n",
            "0  0  0  0  0  0  0  0  23 66 21325325325325319881 2  0  0  0  0  0  0  0  0  0  0  \n",
            "0  0  0  0  0  0  18 17121925325325325319580 9  0  0  0  0  0  0  0  0  0  0  0  0  \n",
            "0  0  0  0  55 17222625325325325324413311 0  0  0  0  0  0  0  0  0  0  0  0  0  0  \n",
            "0  0  0  0  13625325325321213513216 0  0  0  0  0  0  0  0  0  0  0  0  0  0  0  0  \n",
            "0  0  0  0  0  0  0  0  0  0  0  0  0  0  0  0  0  0  0  0  0  0  0  0  0  0  0  0  \n",
            "0  0  0  0  0  0  0  0  0  0  0  0  0  0  0  0  0  0  0  0  0  0  0  0  0  0  0  0  \n",
            "0  0  0  0  0  0  0  0  0  0  0  0  0  0  0  0  0  0  0  0  0  0  0  0  0  0  0  0  \n"
          ]
        }
      ]
    },
    {
      "cell_type": "markdown",
      "source": [
        "데이터 전처리  \n",
        " - 이미지는 다시 숫자의 집합으로 바뀌어 학습셋으로 사용됨\n",
        " - 28 * 28 = 784 개의 속성을 이용해 0 ~ 9 까지 10개의 클래스 중 하나를 맞히는 문제가 됨\n",
        "  \n",
        " - 주어진 가로 28, 세로 28의 2차원  배열을 784개의 1차원 배열로 바꿔 주어야 함.\n",
        " (딥러닝 모델은 일반적으로 이미지를 2차원 형태로 입력으로 받도록 설계)   \n",
        "  -> reshape함수 사용. reshape(총 샘플 수, 1차원 속성의 수)  \n",
        " - 총 샘플 수는 X_train.shape[0] 이용. 1차원 속성의 수는 784개\n",
        " - 일반적으로 딥러닝 모델은 입력 데이터의 스케일을 0과 1 사이로 맞추는 것이 권장\n",
        " - x_train, x_test에 255를 나누는 이유는 사진을 읽어오면 컬러 기준으로 (R, G, B)로 최대 (255, 255, 255) 형태로 가져오는데 여기에 255를 나눠 0~1의 값을 가지게 만들어\n",
        "데이터의 분산의 정도를 바꾸는, 즉 데이터 정규화 과정을 거치게 하기 위해  \n",
        "\n",
        "https://thebook.io/080244/0219/"
      ],
      "metadata": {
        "id": "zzsH0LYlVwlK"
      }
    },
    {
      "cell_type": "code",
      "source": [
        "# 차원 변환 과정 (2차원 배열로 변경 + 정규화)\n",
        "X_train = X_train.reshape(X_train.shape[0], 784)\n",
        "X_train = X_train.astype('float64')\n",
        "X_train = X_train / 255\n",
        "\n",
        "\n",
        "X_test = X_test.reshape(X_test.shape[0], 784).astype('float64')/255\n",
        "X_test"
      ],
      "metadata": {
        "colab": {
          "base_uri": "https://localhost:8080/"
        },
        "id": "IPfPCc6qQFdk",
        "outputId": "0671fe30-e1fa-4b49-b5e1-b811fda43f8c"
      },
      "execution_count": 5,
      "outputs": [
        {
          "output_type": "execute_result",
          "data": {
            "text/plain": [
              "array([[0., 0., 0., ..., 0., 0., 0.],\n",
              "       [0., 0., 0., ..., 0., 0., 0.],\n",
              "       [0., 0., 0., ..., 0., 0., 0.],\n",
              "       ...,\n",
              "       [0., 0., 0., ..., 0., 0., 0.],\n",
              "       [0., 0., 0., ..., 0., 0., 0.],\n",
              "       [0., 0., 0., ..., 0., 0., 0.]])"
            ]
          },
          "metadata": {},
          "execution_count": 5
        }
      ]
    },
    {
      "cell_type": "code",
      "source": [
        "# 첫번째 이미지의 클래스 값 확인\n",
        "print(\"class : %d\" % (y_train[0]))"
      ],
      "metadata": {
        "colab": {
          "base_uri": "https://localhost:8080/"
        },
        "id": "MI0waIN0TPZI",
        "outputId": "a078702e-9ee1-4bd8-ddf5-793bd26cc43a"
      },
      "execution_count": 6,
      "outputs": [
        {
          "output_type": "stream",
          "name": "stdout",
          "text": [
            "class : 5\n"
          ]
        }
      ]
    },
    {
      "cell_type": "markdown",
      "source": [
        "- to_categorical 함수는 수치형 데이터를 범주형 데이터로 만들어 주는 함수\n",
        "- to_categorical(클래스, 클래스의 개수)의 형식\n",
        "- to_categorical(y_train, 10) : 0 부터 9까지의 숫자이므로 클래스 개수는 10개"
      ],
      "metadata": {
        "id": "_AahF091l51H"
      }
    },
    {
      "cell_type": "code",
      "source": [
        "# y의 바이너리화 과정\n",
        "y_train = to_categorical(y_train, 10)\n",
        "y_test = to_categorical(y_test, 10)\n",
        "\n",
        "print(y_train[0])"
      ],
      "metadata": {
        "colab": {
          "base_uri": "https://localhost:8080/"
        },
        "id": "L-kxNKQhjSv5",
        "outputId": "a661a510-de2b-47e3-8fb4-7c574db9a00c"
      },
      "execution_count": 7,
      "outputs": [
        {
          "output_type": "stream",
          "name": "stdout",
          "text": [
            "[0. 0. 0. 0. 0. 1. 0. 0. 0. 0.]\n"
          ]
        }
      ]
    },
    {
      "cell_type": "markdown",
      "source": [
        "### 2. 딥러닝 기본 프레임 만들기"
      ],
      "metadata": {
        "id": "9JnrESFdmP6D"
      }
    },
    {
      "cell_type": "code",
      "source": [
        "from tensorflow.keras.models import Sequential\n",
        "from tensorflow.keras.layers import Dense\n",
        "from tensorflow.keras.callbacks import ModelCheckpoint, EarlyStopping\n",
        "from tensorflow.keras.utils import to_categorical\n",
        "import os\n",
        "import pandas as pd\n",
        "import numpy as np\n",
        "import matplotlib.pyplot as plt\n",
        "\n",
        "# MNIST 데이터 불러오기\n",
        "(X_train, y_train), (X_test, y_test) = mnist.load_data()\n",
        "\n",
        "# 차원 변환 후 테스트셋과 학습셋으로 분리\n",
        "X_train = X_train.reshape(X_train.shape[0], 784).astype('float64')/255\n",
        "X_test = X_test.reshape(X_test.shape[0], 784).astype('float64')/255\n",
        "\n",
        "y_train = to_categorical(y_train, 10)\n",
        "y_test = to_categorical(y_test, 10)\n"
      ],
      "metadata": {
        "id": "mDpIEwAnjse2"
      },
      "execution_count": 8,
      "outputs": []
    },
    {
      "cell_type": "markdown",
      "source": [
        "모델 구조 설정  \n",
        "  - input_dim=784 : 속성(feature) 데이터 수와 같게\n",
        "  - relu : 0보다 작은 값이 입력되면 0을 반환하고, 0보다 큰 값이 입력되면 그 값을 그대로 반환하는 함수\n",
        "  - softmax : 입력된 여러 값을 0~1 사이의 값으로 모두 정규화하며 출력하는 함수"
      ],
      "metadata": {
        "id": "wBbW933cnZwf"
      }
    },
    {
      "cell_type": "code",
      "source": [
        "# 모델 구조 설정\n",
        "model = Sequential()\n",
        "model.add(Dense(512, input_dim=784, activation='relu'))\n",
        "model.add(Dense(10, activation='softmax'))\n",
        "model.summary()"
      ],
      "metadata": {
        "colab": {
          "base_uri": "https://localhost:8080/"
        },
        "id": "mmu3WGgUmy0v",
        "outputId": "13d86bbf-6053-480f-c6fa-0c9aae43f5a2"
      },
      "execution_count": 9,
      "outputs": [
        {
          "output_type": "stream",
          "name": "stdout",
          "text": [
            "Model: \"sequential\"\n",
            "_________________________________________________________________\n",
            " Layer (type)                Output Shape              Param #   \n",
            "=================================================================\n",
            " dense (Dense)               (None, 512)               401920    \n",
            "                                                                 \n",
            " dense_1 (Dense)             (None, 10)                5130      \n",
            "                                                                 \n",
            "=================================================================\n",
            "Total params: 407,050\n",
            "Trainable params: 407,050\n",
            "Non-trainable params: 0\n",
            "_________________________________________________________________\n"
          ]
        }
      ]
    },
    {
      "cell_type": "code",
      "source": [
        "# 모델 실행 환경을 설정\n",
        "model.compile(loss = \"categorical_crossentropy\", optimizer = \"adam\", metrics=['accuracy'])"
      ],
      "metadata": {
        "id": "YOnKNx44nTRu"
      },
      "execution_count": 10,
      "outputs": []
    },
    {
      "cell_type": "code",
      "source": [
        "# 모델 최적화를 위한 설정\n",
        "modelpath='./MINIST_MLP.hdf5'\n",
        "checkpointer = ModelCheckpoint(filepath=modelpath, monitor='val_loss',\n",
        "                               verbose=1, save_best_only=True)\n",
        "early_stopping_callback = EarlyStopping(monitor='val_loss', patience=10)"
      ],
      "metadata": {
        "id": "ITtI4YW2tBjN"
      },
      "execution_count": 11,
      "outputs": []
    },
    {
      "cell_type": "markdown",
      "source": [
        "모델 실행  \n",
        "* batch_size : 모델이 한 번에 학습하는 데이터의 수\n",
        "* epochs=30 : 모든 데이터를 30번 반복\n",
        "* verbose : 케라스 fit 함수의 결괏값을 출력하는 방법을 의미  \n",
        "  * 0 : 아무 표시 X\n",
        "  * 1 : 에포크별 진행 사항을 알려줌\n",
        "  * 2 : 에포크별 학습 결과를 알려줌"
      ],
      "metadata": {
        "id": "0DrOaa2au2EP"
      }
    },
    {
      "cell_type": "code",
      "source": [
        "# 모델 실행\n",
        "history = model.fit(X_train, y_train, validation_split=0.5, epochs=30,\n",
        "                    batch_size=200, verbose=0,\n",
        "                    callbacks=[early_stopping_callback, checkpointer])\n",
        "\n",
        "# 테스트 정확도 출력\n",
        "print(\"\\n Test Accuracy: %.4f\" % (model.evaluate(X_test, y_test)[1]))"
      ],
      "metadata": {
        "colab": {
          "base_uri": "https://localhost:8080/"
        },
        "id": "ErNBJaJ5uKAZ",
        "outputId": "0318a100-a6bc-41f9-f335-a5ad8719a707"
      },
      "execution_count": 12,
      "outputs": [
        {
          "output_type": "stream",
          "name": "stdout",
          "text": [
            "\n",
            "Epoch 1: val_loss improved from inf to 0.23049, saving model to ./MINIST_MLP.hdf5\n",
            "\n",
            "Epoch 2: val_loss improved from 0.23049 to 0.17131, saving model to ./MINIST_MLP.hdf5\n",
            "\n",
            "Epoch 3: val_loss improved from 0.17131 to 0.14493, saving model to ./MINIST_MLP.hdf5\n",
            "\n",
            "Epoch 4: val_loss improved from 0.14493 to 0.12317, saving model to ./MINIST_MLP.hdf5\n",
            "\n",
            "Epoch 5: val_loss improved from 0.12317 to 0.11699, saving model to ./MINIST_MLP.hdf5\n",
            "\n",
            "Epoch 6: val_loss improved from 0.11699 to 0.11142, saving model to ./MINIST_MLP.hdf5\n",
            "\n",
            "Epoch 7: val_loss improved from 0.11142 to 0.10886, saving model to ./MINIST_MLP.hdf5\n",
            "\n",
            "Epoch 8: val_loss improved from 0.10886 to 0.10193, saving model to ./MINIST_MLP.hdf5\n",
            "\n",
            "Epoch 9: val_loss improved from 0.10193 to 0.09995, saving model to ./MINIST_MLP.hdf5\n",
            "\n",
            "Epoch 10: val_loss did not improve from 0.09995\n",
            "\n",
            "Epoch 11: val_loss did not improve from 0.09995\n",
            "\n",
            "Epoch 12: val_loss did not improve from 0.09995\n",
            "\n",
            "Epoch 13: val_loss did not improve from 0.09995\n",
            "\n",
            "Epoch 14: val_loss did not improve from 0.09995\n",
            "\n",
            "Epoch 15: val_loss did not improve from 0.09995\n",
            "\n",
            "Epoch 16: val_loss did not improve from 0.09995\n",
            "\n",
            "Epoch 17: val_loss did not improve from 0.09995\n",
            "\n",
            "Epoch 18: val_loss did not improve from 0.09995\n",
            "\n",
            "Epoch 19: val_loss did not improve from 0.09995\n",
            "313/313 [==============================] - 1s 2ms/step - loss: 0.0777 - accuracy: 0.9777\n",
            "\n",
            " Test Accuracy: 0.9777\n"
          ]
        }
      ]
    },
    {
      "cell_type": "code",
      "source": [
        "# 검증셋과 학습셋의 오차를 저장\n",
        "y_vloss = history.history['val_loss']\n",
        "y_loss = history.history['loss']\n",
        "\n",
        "# 그래프로 표현\n",
        "x_len = np.arange(len(y_loss))\n",
        "plt.plot(x_len, y_vloss, marker='.', c='red', label='Testset_loss')\n",
        "plt.plot(x_len, y_loss, marker='.', c='blue', label='Trainset_loss')\n",
        "\n",
        "# 그래프에 그리드를 주고 레이블을 표시\n",
        "plt.legend(loc='upper right')\n",
        "plt.grid()\n",
        "plt.xlabel('epoch')\n",
        "plt.ylabel('loss')\n",
        "plt.show()"
      ],
      "metadata": {
        "colab": {
          "base_uri": "https://localhost:8080/",
          "height": 449
        },
        "id": "g07HRdESutgL",
        "outputId": "0f080709-741b-42fe-8ad7-2a4a96094cbf"
      },
      "execution_count": 14,
      "outputs": [
        {
          "output_type": "display_data",
          "data": {
            "text/plain": [
              "<Figure size 640x480 with 1 Axes>"
            ],
            "image/png": "[encoded data removed]"
          },
          "metadata": {}
        }
      ]
    },
    {
      "cell_type": "markdown",
      "source": [
        "### 5. 컨볼루션 신경망 실행하기"
      ],
      "metadata": {
        "id": "8hdduYy6ya9C"
      }
    },
    {
      "cell_type": "markdown",
      "source": [
        "컨볼루션 신경망에서의 테스트셋, 학습셋 분리  \n",
        "* 일반적으로 2D 이미지를 1D 벡터 형태가 아닌 4D 텐서 형태로 변환  \n",
        "  * 4D 텐서 구조 : (batch_size, height, width, channels)\n",
        "  * batch_size : 총 데이터 수\n",
        "  * height : 이미지의 높이(행)\n",
        "  * width : 이미지의 너비(열)\n",
        "  * channels : 이미지의 채널 수. 흑백 이미지를 사용하고 있기 때문에 채널 수는 1. 컬러 이미지를 다룬다면 채널 수는 일반적으로 3(RGB)"
      ],
      "metadata": {
        "id": "xdtYCkRY7Mj9"
      }
    },
    {
      "cell_type": "code",
      "source": [
        "from tensorflow.keras.models import Sequential\n",
        "from tensorflow.keras.layers import Dense, Dropout, Flatten, Conv2D, MaxPooling2D\n",
        "from tensorflow.keras.callbacks import ModelCheckpoint, EarlyStopping\n",
        "from tensorflow.keras.utils import to_categorical\n",
        "from tensorflow.keras.datasets import mnist\n",
        "import os\n",
        "import pandas as pd\n",
        "import numpy as np\n",
        "import matplotlib.pyplot as plt\n",
        "\n",
        "# 데이터 불러오기\n",
        "(X_train, y_train), (X_test, y_test) = mnist.load_data()\n",
        "\n",
        "# 차원 변환 후 테스트셋과 학습셋으로 분리\n",
        "X_train = X_train.reshape(X_train.shape[0], 28,28,1).astype('float32')/255\n",
        "X_test = X_test.reshape(X_test.shape[0], 28,28,1).astype('float32')/255\n",
        "\n",
        "y_train = to_categorical(y_train)\n",
        "y_test = to_categorical(y_test)"
      ],
      "metadata": {
        "id": "INSTVPXcwSGc"
      },
      "execution_count": 17,
      "outputs": []
    },
    {
      "cell_type": "markdown",
      "source": [
        "컨볼루션 신경망 설정  \n",
        "* kernel_size : 마스크(커널)의 크기. (행, 열) 형식으로\n",
        "* input_shape: Dense 층과 마찬가지로 맨 처음 층에는 입력되는 값. input_shape=(행, 열, 색상 또는 흑백)\n",
        "* MaxPooling2D : 앞선 layer들을 거치고 나서 나온 output feature map의 모든 data가 필요하지 않다. -> parameter 줄임 -> overfitting 억제\n",
        "* Dropout : 훈련 과정에서 무작위로 일부 뉴런을 비활성화시켜 과적합(Overfitting)을 방지"
      ],
      "metadata": {
        "id": "cY_G4ZjO9jLc"
      }
    },
    {
      "cell_type": "code",
      "source": [
        "# 컨볼루션 신경망 설정\n",
        "model = Sequential()\n",
        "model.add(Conv2D(32, kernel_size=(3,3), input_shape=(28,28,1), activation='relu'))\n",
        "model.add(Conv2D(64, kernel_size=(3,3), activation='relu'))\n",
        "model.add(MaxPooling2D(pool_size=(2,2)))\n",
        "model.add(Dropout(0.25))\n",
        "model.add(Flatten())\n",
        "model.add(Dense(128,activation='relu'))\n",
        "model.add(Dropout(0.5))\n",
        "model.add(Dense(10, activation='softmax'))"
      ],
      "metadata": {
        "id": "JyPsoubSzPXC"
      },
      "execution_count": 19,
      "outputs": []
    },
    {
      "cell_type": "code",
      "source": [
        "# 모델의 실행 옵션을 설정\n",
        "model.compile(loss='categorical_crossentropy', optimizer='adam', metrics=['accuracy'])\n",
        "\n",
        "# 모델 최적화를 위한 설정\n",
        "modelpath='./MINIST_MLP.hdf5'\n",
        "checkpointer = ModelCheckpoint(filepath=modelpath, monitor='val_loss',\n",
        "                               verbose=1, save_best_only=True)\n",
        "early_stopping_callback = EarlyStopping(monitor='val_loss', patience=10)\n",
        "\n",
        "# 모델 실행\n",
        "history = model.fit(X_train, y_train, validation_split=0.25, epochs=30,\n",
        "                    batch_size=200, verbose=0,\n",
        "                    callbacks=[early_stopping_callback, checkpointer])\n",
        "\n",
        "# 테스트 정확도 출력\n",
        "print(\"\\n Test Accuracy: %.4f\" % (model.evaluate(X_test, y_test)[1]))"
      ],
      "metadata": {
        "colab": {
          "base_uri": "https://localhost:8080/"
        },
        "id": "sTIFe0dk-Xib",
        "outputId": "cb45aa18-4336-492d-fd5f-5dda4ebad946"
      },
      "execution_count": null,
      "outputs": [
        {
          "output_type": "stream",
          "name": "stdout",
          "text": [
            "\n",
            "Epoch 1: val_loss improved from inf to 0.05494, saving model to ./MINIST_MLP.hdf5\n"
          ]
        }
      ]
    },
    {
      "cell_type": "code",
      "source": [
        "# 검증셋과 학습셋의 오차를 저장\n",
        "y_vloss = history.history['val_loss']\n",
        "y_loss = history.history['loss']\n",
        "\n",
        "# 그래프로 표현\n",
        "x_len = np.arange(len(y_loss))\n",
        "plt.plot(x_len, y_vloss, marker='.', c='red', label='Testset_loss')\n",
        "plt.plot(x_len, y_loss, marker='.', c='blue', label='Trainset_loss')\n",
        "\n",
        "# 그래프에 그리드를 주고 레이블을 표시\n",
        "plt.legend(loc='upper right')\n",
        "plt.grid()\n",
        "plt.xlabel('epoch')\n",
        "plt.ylabel('loss')\n",
        "plt.show()"
      ],
      "metadata": {
        "id": "pOrBm5w5Banz"
      },
      "execution_count": null,
      "outputs": []
    }
  ]
}