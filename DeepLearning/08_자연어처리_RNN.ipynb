{
  "nbformat": 4,
  "nbformat_minor": 0,
  "metadata": {
    "colab": {
      "provenance": []
    },
    "kernelspec": {
      "name": "python3",
      "display_name": "Python 3"
    },
    "language_info": {
      "name": "python"
    }
  },
  "cells": [
    {
      "cell_type": "markdown",
      "source": [
        "## 딥러닝을 이용한 자연어 처리"
      ],
      "metadata": {
        "id": "ImOP6i-Vzab_"
      }
    },
    {
      "cell_type": "markdown",
      "source": [
        "### 1. 텍스트의 토큰화"
      ],
      "metadata": {
        "id": "Nv_C8sBdzahQ"
      }
    },
    {
      "cell_type": "code",
      "execution_count": 40,
      "metadata": {
        "colab": {
          "base_uri": "https://localhost:8080/"
        },
        "id": "y3mMAhzVzRlD",
        "outputId": "3d9d7dc6-8697-4151-c246-797a6725f3cc"
      },
      "outputs": [
        {
          "output_type": "stream",
          "name": "stdout",
          "text": [
            "\n",
            "원문:\n",
            " 해보지 않으면 해낼 수 없다\n",
            "\n",
            "토큰화:\n",
            " ['해보지', '않으면', '해낼', '수', '없다']\n"
          ]
        }
      ],
      "source": [
        "from tensorflow.keras.preprocessing.text import Tokenizer\n",
        "from tensorflow.keras.models import Sequential\n",
        "from tensorflow.keras.layers import Dense, Flatten, Embedding\n",
        "from tensorflow.keras.utils import to_categorical\n",
        "from numpy import array\n",
        "import os\n",
        "import pandas as pd\n",
        "import numpy as np\n",
        "import matplotlib.pyplot as plt\n",
        "\n",
        "# 케라스의 텍스트 전처리와 관련한 함수 중 text_to_word_sequence 함수를 불러옴\n",
        "from tensorflow.keras.preprocessing.text import text_to_word_sequence\n",
        "\n",
        "# 전처리할 텍스트를 정한다.\n",
        "text = '해보지 않으면 해낼 수 없다'\n",
        "\n",
        "# 해당 텍스트를 토큰화\n",
        "result = text_to_word_sequence(text)\n",
        "print(\"\\n원문:\\n\",text)\n",
        "print(\"\\n토큰화:\\n\",result)"
      ]
    },
    {
      "cell_type": "markdown",
      "source": [
        "* 단어 빈도수 세기"
      ],
      "metadata": {
        "id": "6gdIO1K30oGC"
      }
    },
    {
      "cell_type": "code",
      "source": [
        "# 전처리하려는 세 개의 문장을 정한다.\n",
        "\n",
        "docs = ['먼저 텍스트의 각 단어를 나누어 토큰화합니다.',\n",
        "        '텍스트의 단어로 토큰화해야 딥러닝에서 인식됩니다.',\n",
        "        '토큰화한 결과는 딥러닝에서 사용할 수 있습니다.']\n",
        "\n",
        "# 토큰화 함수를 이요해 전처리\n",
        "token = Tokenizer()     # 토큰화 함수 지정\n",
        "token.fit_on_texts(docs) # 토큰화 함수에 문장 적용\n",
        "\n",
        "# 단어의 빈도수를 계산한 결과를 각 옵션에 맞추어 출력\n",
        "# Tokenizer()의 word_counts 함수는 순서를 기억하는 OrderedDict 클래스를 사용\n",
        "print(\"\\n단어 카운트:\", token.word_counts)\n",
        "\n",
        "# 출력되는 순서는 랜덤\n",
        "print(\"\\n문장 카운트:\", token.document_count)\n",
        "print(\"\\n각 단어가 몇 개의 문장에 포함되어 있는가::\", token.word_docs)\n",
        "print(\"\\n각 단어에 매겨진 인덱스 값:\", token.word_index)\n",
        "\n"
      ],
      "metadata": {
        "colab": {
          "base_uri": "https://localhost:8080/"
        },
        "id": "28Sbt6jy0c_A",
        "outputId": "f7be3d98-053b-4e7a-fba5-fc5469462084"
      },
      "execution_count": 41,
      "outputs": [
        {
          "output_type": "stream",
          "name": "stdout",
          "text": [
            "\n",
            "단어 카운트: OrderedDict([('먼저', 1), ('텍스트의', 2), ('각', 1), ('단어를', 1), ('나누어', 1), ('토큰화합니다', 1), ('단어로', 1), ('토큰화해야', 1), ('딥러닝에서', 2), ('인식됩니다', 1), ('토큰화한', 1), ('결과는', 1), ('사용할', 1), ('수', 1), ('있습니다', 1)])\n",
            "\n",
            "문장 카운트: 3\n",
            "\n",
            "각 단어가 몇 개의 문장에 포함되어 있는가:: defaultdict(<class 'int'>, {'토큰화합니다': 1, '텍스트의': 2, '각': 1, '먼저': 1, '단어를': 1, '나누어': 1, '딥러닝에서': 2, '단어로': 1, '토큰화해야': 1, '인식됩니다': 1, '결과는': 1, '수': 1, '토큰화한': 1, '있습니다': 1, '사용할': 1})\n",
            "\n",
            "각 단어에 매겨진 인덱스 값: {'텍스트의': 1, '딥러닝에서': 2, '먼저': 3, '각': 4, '단어를': 5, '나누어': 6, '토큰화합니다': 7, '단어로': 8, '토큰화해야': 9, '인식됩니다': 10, '토큰화한': 11, '결과는': 12, '사용할': 13, '수': 14, '있습니다': 15}\n"
          ]
        }
      ]
    },
    {
      "cell_type": "markdown",
      "source": [
        "### 2. 단어의 원-핫 인코딩"
      ],
      "metadata": {
        "id": "KC2Gwyn02NCK"
      }
    },
    {
      "cell_type": "code",
      "source": [
        "text = \"오랫동안 꿈꾸는 이는 그 꿈을 닮아간다\"\n",
        "token = Tokenizer()\n",
        "token.fit_on_texts([text]) # 리스트 형식으로 넣는다.\n",
        "print(token.word_index)"
      ],
      "metadata": {
        "colab": {
          "base_uri": "https://localhost:8080/"
        },
        "id": "gPIGPxR31sPG",
        "outputId": "732de3d3-6219-4562-8a3b-5cd5997ee2be"
      },
      "execution_count": 42,
      "outputs": [
        {
          "output_type": "stream",
          "name": "stdout",
          "text": [
            "{'오랫동안': 1, '꿈꾸는': 2, '이는': 3, '그': 4, '꿈을': 5, '닮아간다': 6}\n"
          ]
        }
      ]
    },
    {
      "cell_type": "code",
      "source": [
        "x = token.texts_to_sequences([text]) # 텍스트 안의 단어들을 숫자의 시퀀스의 형태로 변환\n",
        "print(x)"
      ],
      "metadata": {
        "colab": {
          "base_uri": "https://localhost:8080/"
        },
        "id": "tJEaWte62hmV",
        "outputId": "f31f7461-949e-4cc1-c7fb-1a5aba14e9c1"
      },
      "execution_count": 43,
      "outputs": [
        {
          "output_type": "stream",
          "name": "stdout",
          "text": [
            "[[1, 2, 3, 4, 5, 6]]\n"
          ]
        }
      ]
    },
    {
      "cell_type": "code",
      "source": [
        "# 인덱스 수에 하나를 추가해서 원-핫 인코딩 배열 만들기\n",
        "word_size = len(token.word_index) +1 # +1 해주어야 함.\n",
        "x = to_categorical(x, num_classes=word_size)\n",
        "print(x)"
      ],
      "metadata": {
        "colab": {
          "base_uri": "https://localhost:8080/"
        },
        "id": "-n6Pt92F2xfd",
        "outputId": "1e683fb8-e06e-416a-a458-8c80bf219b90"
      },
      "execution_count": 44,
      "outputs": [
        {
          "output_type": "stream",
          "name": "stdout",
          "text": [
            "[[[0. 1. 0. 0. 0. 0. 0.]\n",
            "  [0. 0. 1. 0. 0. 0. 0.]\n",
            "  [0. 0. 0. 1. 0. 0. 0.]\n",
            "  [0. 0. 0. 0. 1. 0. 0.]\n",
            "  [0. 0. 0. 0. 0. 1. 0.]\n",
            "  [0. 0. 0. 0. 0. 0. 1.]]]\n"
          ]
        }
      ]
    },
    {
      "cell_type": "markdown",
      "source": [
        "### 3. 텍스트를 읽고 긍정, 부정 예측하기"
      ],
      "metadata": {
        "id": "q0AQK2BHBug2"
      }
    },
    {
      "cell_type": "code",
      "source": [
        "# 텍스트 리뷰 자료를 지정\n",
        "docs = ['너무 재밌네요', '최고에요', '참 잘 만든 영화에요', '추천하고 싶은 영화입니다',\n",
        "        '한번 더 보고싶네요', '글쎄요', '별로에요', '생각보다 지루하네요', '연기가 어색해', '재미없어요']\n",
        "\n",
        "# 긍정리뷰는 1, 부정 리뷰는 0으로 클래스 지정\n",
        "classes = array([1,1,1,1,1,0,0,0,0,0])\n",
        "\n",
        "# 토큰화\n",
        "token = Tokenizer()\n",
        "token.fit_on_texts(docs)\n",
        "print(token.word_index)"
      ],
      "metadata": {
        "colab": {
          "base_uri": "https://localhost:8080/"
        },
        "id": "rIjYMdby3DKE",
        "outputId": "d3adb54b-ba22-47c2-c6fb-e9e0a66f4ab2"
      },
      "execution_count": 45,
      "outputs": [
        {
          "output_type": "stream",
          "name": "stdout",
          "text": [
            "{'너무': 1, '재밌네요': 2, '최고에요': 3, '참': 4, '잘': 5, '만든': 6, '영화에요': 7, '추천하고': 8, '싶은': 9, '영화입니다': 10, '한번': 11, '더': 12, '보고싶네요': 13, '글쎄요': 14, '별로에요': 15, '생각보다': 16, '지루하네요': 17, '연기가': 18, '어색해': 19, '재미없어요': 20}\n"
          ]
        }
      ]
    },
    {
      "cell_type": "code",
      "source": [
        "x = token.texts_to_sequences(docs)\n",
        "print(\"\\n리뷰 텍스트, 토큰화 결과:\", x)"
      ],
      "metadata": {
        "colab": {
          "base_uri": "https://localhost:8080/"
        },
        "id": "gV7uNazoCcY0",
        "outputId": "a90389ce-aec9-4178-a536-d7e7de8c3b76"
      },
      "execution_count": 46,
      "outputs": [
        {
          "output_type": "stream",
          "name": "stdout",
          "text": [
            "\n",
            "리뷰 텍스트, 토큰화 결과: [[1, 2], [3], [4, 5, 6, 7], [8, 9, 10], [11, 12, 13], [14], [15], [16, 17], [18, 19], [20]]\n"
          ]
        }
      ]
    },
    {
      "cell_type": "code",
      "source": [
        "# 패딩, 서로 다른 길이의 데이터를 4로 맞추어 준다\n",
        "from tensorflow.keras.preprocessing.sequence import pad_sequences\n",
        "padded_x = pad_sequences(x, maxlen=4)\n",
        "print(\"\\n패딩 결과:\\n\", padded_x)\n"
      ],
      "metadata": {
        "colab": {
          "base_uri": "https://localhost:8080/"
        },
        "id": "KwcOhDDgCmTU",
        "outputId": "6f3279fd-fba3-4130-b195-a2e0d9e7505a"
      },
      "execution_count": 47,
      "outputs": [
        {
          "output_type": "stream",
          "name": "stdout",
          "text": [
            "\n",
            "패딩 결과:\n",
            " [[ 0  0  1  2]\n",
            " [ 0  0  0  3]\n",
            " [ 4  5  6  7]\n",
            " [ 0  8  9 10]\n",
            " [ 0 11 12 13]\n",
            " [ 0  0  0 14]\n",
            " [ 0  0  0 15]\n",
            " [ 0  0 16 17]\n",
            " [ 0  0 18 19]\n",
            " [ 0  0  0 20]]\n"
          ]
        }
      ]
    },
    {
      "cell_type": "code",
      "source": [
        "# 임베딩에 입력될 단어의 수를 지정\n",
        "word_size = len(token.word_index) + 1\n",
        "word_size"
      ],
      "metadata": {
        "colab": {
          "base_uri": "https://localhost:8080/"
        },
        "id": "OM-71O9YGEZB",
        "outputId": "b86bb62c-d5aa-49a6-f97c-7592e3d65f09"
      },
      "execution_count": 50,
      "outputs": [
        {
          "output_type": "execute_result",
          "data": {
            "text/plain": [
              "21"
            ]
          },
          "metadata": {},
          "execution_count": 50
        }
      ]
    },
    {
      "cell_type": "markdown",
      "source": [
        "Embedding Layer  \n",
        "  * 단어를 고정된 길이의 밀집 벡터로 매핑하는 역할을 하며, 이를 통해 단어 간의 의미적 유사성을 반영하면서 모델이 텍스트 데이터를 더 잘 이해하고 처리할 수 있도록 돕는다.\n",
        "  * Embedding() 함수의 인자  \n",
        "    * word_size: 이 값은 단어 집합의 크기를 의미\n",
        "    * 8 : 임베딩 레이어에서 각 단어를 표현하는 벡터의 차원 크기를 의미.하이퍼파라미터. 차원이 작으면 계산 비용이 적지만, 단어의 의미를 잘 표현하지 못할 수 있고, 차원이 크면 계산 비용이 커지지만 단어의 의미를 더 잘 표현\n",
        "    * input_length : 입력 시퀀스의 길이. 각 문장의 최대 단어 개수. pad_sequences() 함수에서 지정한 maxlen 길이와 같다."
      ],
      "metadata": {
        "id": "AtW87CC4Jkq2"
      }
    },
    {
      "cell_type": "code",
      "source": [
        "# 단어 임베딩을 포함하여 딥러닝 모델을 만들고 결과를 출력\n",
        "model = Sequential()\n",
        "model.add(Embedding(word_size, 8, input_length=4))\n",
        "model.add(Flatten())\n",
        "model.add(Dense(1, activation = 'sigmoid'))\n",
        "model.summary()"
      ],
      "metadata": {
        "colab": {
          "base_uri": "https://localhost:8080/"
        },
        "id": "iz_nc4D1C3xb",
        "outputId": "252fc050-7967-49ab-ab71-adbdf19c537d"
      },
      "execution_count": 51,
      "outputs": [
        {
          "output_type": "stream",
          "name": "stdout",
          "text": [
            "Model: \"sequential_3\"\n",
            "_________________________________________________________________\n",
            " Layer (type)                Output Shape              Param #   \n",
            "=================================================================\n",
            " embedding_3 (Embedding)     (None, 4, 8)              168       \n",
            "                                                                 \n",
            " flatten_3 (Flatten)         (None, 32)                0         \n",
            "                                                                 \n",
            " dense_3 (Dense)             (None, 1)                 33        \n",
            "                                                                 \n",
            "=================================================================\n",
            "Total params: 201\n",
            "Trainable params: 201\n",
            "Non-trainable params: 0\n",
            "_________________________________________________________________\n"
          ]
        }
      ]
    },
    {
      "cell_type": "code",
      "source": [
        "model.compile(optimizer='adam', loss='binary_crossentropy', metrics=['accuracy'])\n",
        "model.fit(padded_x, classes, epochs=20)\n",
        "print(\"\\n Accuracy: %.4f\" % (model.evaluate(padded_x, classes)[1]))"
      ],
      "metadata": {
        "colab": {
          "base_uri": "https://localhost:8080/"
        },
        "id": "UsU1dWQEEHm0",
        "outputId": "bea6568c-205f-4d6a-c49b-b60ec6a35ec5"
      },
      "execution_count": 49,
      "outputs": [
        {
          "output_type": "stream",
          "name": "stdout",
          "text": [
            "Epoch 1/20\n",
            "1/1 [==============================] - 1s 911ms/step - loss: 0.6922 - accuracy: 0.6000\n",
            "Epoch 2/20\n",
            "1/1 [==============================] - 0s 14ms/step - loss: 0.6904 - accuracy: 0.7000\n",
            "Epoch 3/20\n",
            "1/1 [==============================] - 0s 12ms/step - loss: 0.6886 - accuracy: 0.7000\n",
            "Epoch 4/20\n",
            "1/1 [==============================] - 0s 12ms/step - loss: 0.6868 - accuracy: 0.7000\n",
            "Epoch 5/20\n",
            "1/1 [==============================] - 0s 11ms/step - loss: 0.6849 - accuracy: 0.8000\n",
            "Epoch 6/20\n",
            "1/1 [==============================] - 0s 12ms/step - loss: 0.6831 - accuracy: 0.9000\n",
            "Epoch 7/20\n",
            "1/1 [==============================] - 0s 12ms/step - loss: 0.6813 - accuracy: 1.0000\n",
            "Epoch 8/20\n",
            "1/1 [==============================] - 0s 12ms/step - loss: 0.6795 - accuracy: 1.0000\n",
            "Epoch 9/20\n",
            "1/1 [==============================] - 0s 13ms/step - loss: 0.6777 - accuracy: 1.0000\n",
            "Epoch 10/20\n",
            "1/1 [==============================] - 0s 10ms/step - loss: 0.6759 - accuracy: 0.9000\n",
            "Epoch 11/20\n",
            "1/1 [==============================] - 0s 10ms/step - loss: 0.6741 - accuracy: 0.9000\n",
            "Epoch 12/20\n",
            "1/1 [==============================] - 0s 12ms/step - loss: 0.6723 - accuracy: 0.9000\n",
            "Epoch 13/20\n",
            "1/1 [==============================] - 0s 11ms/step - loss: 0.6705 - accuracy: 0.9000\n",
            "Epoch 14/20\n",
            "1/1 [==============================] - 0s 15ms/step - loss: 0.6687 - accuracy: 0.9000\n",
            "Epoch 15/20\n",
            "1/1 [==============================] - 0s 12ms/step - loss: 0.6669 - accuracy: 0.9000\n",
            "Epoch 16/20\n",
            "1/1 [==============================] - 0s 12ms/step - loss: 0.6650 - accuracy: 0.9000\n",
            "Epoch 17/20\n",
            "1/1 [==============================] - 0s 13ms/step - loss: 0.6632 - accuracy: 0.9000\n",
            "Epoch 18/20\n",
            "1/1 [==============================] - 0s 11ms/step - loss: 0.6613 - accuracy: 0.9000\n",
            "Epoch 19/20\n",
            "1/1 [==============================] - 0s 10ms/step - loss: 0.6594 - accuracy: 0.9000\n",
            "Epoch 20/20\n",
            "1/1 [==============================] - 0s 12ms/step - loss: 0.6575 - accuracy: 0.9000\n",
            "1/1 [==============================] - 0s 204ms/step - loss: 0.6556 - accuracy: 0.9000\n",
            "\n",
            " Accuracy: 0.9000\n"
          ]
        }
      ]
    },
    {
      "cell_type": "code",
      "source": [],
      "metadata": {
        "id": "lPDk1e3LElhs"
      },
      "execution_count": 49,
      "outputs": []
    }
  ]
}