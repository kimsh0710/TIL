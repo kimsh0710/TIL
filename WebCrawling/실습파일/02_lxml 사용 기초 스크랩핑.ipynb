{
 "cells": [
  {
   "cell_type": "markdown",
   "id": "095d5a3d",
   "metadata": {},
   "source": [
    "## lxml 사용 기초 스크랩핑"
   ]
  },
  {
   "cell_type": "code",
   "execution_count": null,
   "id": "48b6da91",
   "metadata": {},
   "outputs": [],
   "source": [
    "# pip install lxml을 윈도우 cmd 창에서 실행한다.\n",
    "# pip install requests\n",
    "# pip install cssselect"
   ]
  },
  {
   "cell_type": "code",
   "execution_count": 6,
   "id": "d8efa222",
   "metadata": {},
   "outputs": [],
   "source": [
    "from typing import get_args\n",
    "import requests\n",
    "from lxml.html import fromstring, tostring"
   ]
  },
  {
   "cell_type": "code",
   "execution_count": 7,
   "id": "017343d3",
   "metadata": {},
   "outputs": [],
   "source": [
    "# Session : HTTP 요청과 응답 사이에 유지되는 상태 정보를 저장할 수 있는 기능\n",
    "# 요청(Request)과 응답(Response) 사이에 연결 상태를 유지\n",
    "\n",
    "# GET 메소드와 POST 메소드는 HTTP 프로토콜에서 사용하는 Request 메소드\n",
    "# GET 메소드 : 웹 서버에 접속할 때 서버에 저장된 자원(예를 들어, 이미지 파일, HTML 문서)을 요청할 때 주로 사용\n",
    "# POST 메소드 : 웹 서버에 접속할 때 서버에 새로운 자원을 생성하거나, 기존 자원을 수정할 때 주로 사용"
   ]
  },
  {
   "cell_type": "code",
   "execution_count": 8,
   "id": "4a7a5543",
   "metadata": {},
   "outputs": [],
   "source": [
    "def main():\n",
    "    \"\"\"\n",
    "    네이버 지식인 스크랩핑 메인 함수\n",
    "    \"\"\"\n",
    "    \n",
    "    # 세션 사용\n",
    "    session = requests.Session()\n",
    "    \n",
    "    #스크랩핑 대상 URL (GET,POST)\n",
    "    response = session.get(\"https://kin.naver.com/search/list.naver?query=%ED%8C%8C%EC%9D%B4%EC%8D%AC\")\n",
    "    \n",
    "    # 신문사 링크 리스트 획득\n",
    "    urls = scrape_news_list_page(response)\n",
    "    \n",
    "    #딕셔너리 확인\n",
    "    #print(urls)\n",
    "    \n",
    "    #결과 출력\n",
    "    for name, url in urls.items():\n",
    "        print(name, url)\n",
    "        \n",
    "        #파일쓰기\n",
    "        #생략"
   ]
  },
  {
   "cell_type": "code",
   "execution_count": 10,
   "id": "7792e3a6",
   "metadata": {},
   "outputs": [
    {
     "ename": "SyntaxError",
     "evalue": "invalid syntax (2846379332.py, line 14)",
     "output_type": "error",
     "traceback": [
      "\u001b[1;36m  File \u001b[1;32m\"C:\\Users\\ksh\\AppData\\Local\\Temp\\ipykernel_1652\\2846379332.py\"\u001b[1;36m, line \u001b[1;32m14\u001b[0m\n\u001b[1;33m    for a in root.xpath('//ul[@class=\"basic1\"]/li/dl/dt/a[@class=\"_nclicks:kin.txt _searchListTitleAnchor\"]')\u001b[0m\n\u001b[1;37m                                                                                                             ^\u001b[0m\n\u001b[1;31mSyntaxError\u001b[0m\u001b[1;31m:\u001b[0m invalid syntax\n"
     ]
    }
   ],
   "source": [
    "def scrapes_new_list(response):\n",
    "    # url 리스트 선언\n",
    "    urls={}\n",
    "    \n",
    "    #태그 정보 문자열 저장\n",
    "    #print(response.contents)\n",
    "    # fromstring : 주어진 문자열로부터 데이터를 읽어오는 함수\n",
    "    # response.content : 웹 페이지의 HTML 코드를 바이트 형태로 반환\n",
    "    root = fromstring(response.content)\n",
    "    #print(root)\n",
    "    \n",
    "    # .xpath : XML 문서의 요소를 경로(path)를 통해 찾는 데 사용되는 언어\n",
    "    # 이 객체를 통해 선택한 요소의 속성(attribute) 값이나 텍스트(content) 등에 접근할 수 있음\n",
    "    for a in root.xpath('//ul[@class=\"basic1\"]/li/dl/dt/a[@class=\"_nclicks:kin.txt _searchListTitleAnchor\"]')\n",
    "        # a 구조 확인\n",
    "        # print(a)\n",
    "        \n",
    "        # a문자열 출력\n",
    "        #print(tostring(a, pretty_print=True))\n",
    "        \n",
    "        name, url = extract_conents(a)\n",
    "        #딕셔너리 삽입\n",
    "        urls[name] = url\n",
    "        \n",
    "    return urls"
   ]
  },
  {
   "cell_type": "code",
   "execution_count": null,
   "id": "575f6888",
   "metadata": {},
   "outputs": [],
   "source": []
  }
 ],
 "metadata": {
  "kernelspec": {
   "display_name": "Python 3 (ipykernel)",
   "language": "python",
   "name": "python3"
  },
  "language_info": {
   "codemirror_mode": {
    "name": "ipython",
    "version": 3
   },
   "file_extension": ".py",
   "mimetype": "text/x-python",
   "name": "python",
   "nbconvert_exporter": "python",
   "pygments_lexer": "ipython3",
   "version": "3.9.13"
  }
 },
 "nbformat": 4,
 "nbformat_minor": 5
}
