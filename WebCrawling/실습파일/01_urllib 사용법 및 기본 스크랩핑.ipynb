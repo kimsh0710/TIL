{
 "cells": [
  {
   "attachments": {},
   "cell_type": "markdown",
   "id": "145b0e1d",
   "metadata": {},
   "source": [
    "#### urllib.request ####\n",
    "\n",
    "urllib.request : 간단하게 웹 페이지 요청 및 데이터를 가져오게 함.\n",
    "\n",
    "urllib.request.urlretrieve : 직접 파일을 다운받을 수 있게 함. "
   ]
  },
  {
   "cell_type": "code",
   "execution_count": 2,
   "id": "601eecc8",
   "metadata": {},
   "outputs": [],
   "source": [
    "import urllib.request as req"
   ]
  },
  {
   "cell_type": "code",
   "execution_count": 6,
   "id": "b2e4e7bf",
   "metadata": {},
   "outputs": [],
   "source": [
    "# 파일 URL\n",
    "img_url = r\"https://blog.kakaocdn.net/dn/ce81qr/btqY9ZBalFt/nlKBIcOkBMe8uZpkx5acjK/img.jpg\"\n",
    "html_url = r\"http://google.com\""
   ]
  },
  {
   "cell_type": "code",
   "execution_count": 10,
   "id": "ec1672ef",
   "metadata": {},
   "outputs": [],
   "source": [
    "# 다운받을 경로 지정\n",
    "save_path1= r\"C:\\JupyterTest\\test1.jpg\"\n",
    "save_path2= r\"C:\\JupyterTest\\index.html\""
   ]
  },
  {
   "cell_type": "code",
   "execution_count": 13,
   "id": "fab5154f",
   "metadata": {},
   "outputs": [
    {
     "name": "stdout",
     "output_type": "stream",
     "text": [
      "Date: Wed, 28 Jun 2023 15:36:32 GMT\n",
      "Content-Type: image/jpeg\n",
      "Content-Length: 873404\n",
      "Connection: close\n",
      "X-Kakao-crc32: 2758115417\n",
      "Expires: Thu, 31 Dec 2037 23:55:55 GMT\n",
      "Cache-Control: max-age=315360000\n",
      "Age: 37690\n",
      "\n",
      "\n",
      "Date: Wed, 28 Jun 2023 15:36:32 GMT\n",
      "Expires: -1\n",
      "Cache-Control: private, max-age=0\n",
      "Content-Type: text/html; charset=ISO-8859-1\n",
      "Content-Security-Policy-Report-Only: object-src 'none';base-uri 'self';script-src 'nonce-U7PxrlBR7D4uguHwAyOXyg' 'strict-dynamic' 'report-sample' 'unsafe-eval' 'unsafe-inline' https: http:;report-uri https://csp.withgoogle.com/csp/gws/other-hp\n",
      "P3P: CP=\"This is not a P3P policy! See g.co/p3phelp for more info.\"\n",
      "Server: gws\n",
      "X-XSS-Protection: 0\n",
      "X-Frame-Options: SAMEORIGIN\n",
      "Set-Cookie: 1P_JAR=2023-06-28-15; expires=Fri, 28-Jul-2023 15:36:32 GMT; path=/; domain=.google.com; Secure\n",
      "Set-Cookie: AEC=AUEFqZfHwKD4xmyi1n11XQxttSoCC3AeHcZI6lb55ouO4vrJU_ht78dQ9A; expires=Mon, 25-Dec-2023 15:36:32 GMT; path=/; domain=.google.com; Secure; HttpOnly; SameSite=lax\n",
      "Set-Cookie: NID=511=ewvqH1_XZuJT0OuThIQUuWnqHoGEjFd88J6ITkwu8kyej9QhgUz7CzMsCnekxjt4IEfOJFjzvA6Yi7hE4JVO6UOhTp-NGEDb3NGwz9xnLK-73MMiP3Sd-mp3ch0p2di2_CRUSAsTBSiznW9Zx8HyIn-SuxdvgiE4Fs-4XKPqgWQ; expires=Thu, 28-Dec-2023 15:36:32 GMT; path=/; domain=.google.com; HttpOnly\n",
      "Accept-Ranges: none\n",
      "Vary: Accept-Encoding\n",
      "Connection: close\n",
      "Transfer-Encoding: chunked\n",
      "\n",
      "\n"
     ]
    }
   ],
   "source": [
    "# 예외처리\n",
    "try:\n",
    "    file1, header1 = req.urlretrieve(img_url, save_path1)\n",
    "    file2, header2 = req.urlretrieve(html_url, save_path2)\n",
    "except Exception as e:\n",
    "    print(\"Dawnload failed.\")\n",
    "    print(e)\n",
    "else:\n",
    "    # Header 정보 출력\n",
    "    print(header1)\n",
    "    print(header2)"
   ]
  },
  {
   "cell_type": "code",
   "execution_count": 14,
   "id": "c2d94046",
   "metadata": {},
   "outputs": [
    {
     "name": "stdout",
     "output_type": "stream",
     "text": [
      "Filename1 C:\\JupyterTest\\test1.jpg\n",
      "Filename2 C:\\JupyterTest\\index.html\n",
      "\n"
     ]
    }
   ],
   "source": [
    "# 다운로드 받을 파일 정보\n",
    "print(\"Filename1 {}\".format(file1))\n",
    "print(\"Filename2 {}\".format(file2))\n",
    "print()"
   ]
  },
  {
   "cell_type": "code",
   "execution_count": 15,
   "id": "15ba1ed3",
   "metadata": {},
   "outputs": [
    {
     "name": "stdout",
     "output_type": "stream",
     "text": [
      "Download Succeed\n"
     ]
    }
   ],
   "source": [
    "# 성공\n",
    "print(\"Download Succeed\")"
   ]
  }
 ],
 "metadata": {
  "kernelspec": {
   "display_name": "Python 3 (ipykernel)",
   "language": "python",
   "name": "python3"
  },
  "language_info": {
   "codemirror_mode": {
    "name": "ipython",
    "version": 3
   },
   "file_extension": ".py",
   "mimetype": "text/x-python",
   "name": "python",
   "nbconvert_exporter": "python",
   "pygments_lexer": "ipython3",
   "version": "3.9.13"
  }
 },
 "nbformat": 4,
 "nbformat_minor": 5
}
