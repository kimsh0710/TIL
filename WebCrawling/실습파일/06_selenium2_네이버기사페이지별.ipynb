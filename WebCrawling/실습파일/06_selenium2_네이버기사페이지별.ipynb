{
 "cells": [
  {
   "cell_type": "code",
   "execution_count": 1,
   "id": "12a3ab44",
   "metadata": {},
   "outputs": [],
   "source": [
    "from selenium import webdriver"
   ]
  },
  {
   "cell_type": "code",
   "execution_count": 5,
   "id": "3ebc1fd3",
   "metadata": {},
   "outputs": [],
   "source": [
    "from selenium.webdriver.chrome.service import Service as ChromeService\n",
    "from webdriver_manager.chrome import ChromeDriverManager"
   ]
  },
  {
   "cell_type": "code",
   "execution_count": 6,
   "id": "facbd5d6",
   "metadata": {},
   "outputs": [],
   "source": [
    "from selenium.webdriver.common.by import By"
   ]
  },
  {
   "cell_type": "code",
   "execution_count": 10,
   "id": "fbbb1d3d",
   "metadata": {},
   "outputs": [],
   "source": [
    "article_list = []\n",
    "\n",
    "def get_article(page):\n",
    "    ## driver = webdriver.Chrome(\"C:\\JupyterTest\\chromedriver\\chromedriver.exe\")\n",
    "    \n",
    "    driver = webdriver.Chrome(service=ChromeService(ChromeDriverManager().install()))\n",
    "    \n",
    "    driver.get(\"http://news.naver.com/main/main.nhn?mode=LSD&mid=shm&sid1=105#&date=%2000:00:00&page=\" + str(page))\n",
    "    articles = driver.find_elements(By.CSS_SELECTOR,'#section_body li')\n",
    "    \n",
    "    for article in articles:\n",
    "        title = article.find_element(By.CSS_SELECTOR, 'dt:not(.photo) > a').text\n",
    "        article_list.append(title)\n",
    "        \n",
    "    print(\"end :\", page)\n",
    "    \n",
    "    driver.quit()"
   ]
  },
  {
   "cell_type": "code",
   "execution_count": 11,
   "id": "81e8fac3",
   "metadata": {},
   "outputs": [
    {
     "name": "stdout",
     "output_type": "stream",
     "text": [
      "end : 1\n",
      "end : 2\n",
      "end : 3\n",
      "end : 4\n",
      "Wall time: 35.4 s\n"
     ]
    }
   ],
   "source": [
    "%%time\n",
    "for page in range(1,5):\n",
    "    get_article(page)"
   ]
  },
  {
   "cell_type": "code",
   "execution_count": 12,
   "id": "c70b9016",
   "metadata": {},
   "outputs": [
    {
     "data": {
      "text/plain": [
       "(80,\n",
       " ['갤럭시Z플립5 \"홈버튼·뒤로가기에 앱은 12개?\" 외부 시연 영상 [글로벌 IT슈]',\n",
       "  '네이버보다 기프티콘 수수료 높다?...카카오 \"사업 구조 달라 차이 발생\" 해명',\n",
       "  '韓, AI 경쟁력 세계 6위… “알고리즘 기술·정부정책 높은 평가”',\n",
       "  '카톡 선물하기 수수료, 올해 국감 화두되나…가맹점 불만 높은 이유는?',\n",
       "  '\"챗GPT 시대 낙오될라\"…메가존-한국MS 활용전략 세미나에 기업 경영진 \\'북새통\\'',\n",
       "  \"5월 스마트폰 판매 23개월 연속 '역성장'...삼성·애플 신제품 효과 끝\",\n",
       "  '\"경영공백 사태 책임져라\"…고성 오간 KT 임시 주총',\n",
       "  '카카오게임즈, 신구 게임 조화로 하반기 반등 준비',\n",
       "  '조계현 카겜 대표 \"아레스, MMORPG 지각변동 일으킬 게임 체인저 될 것\"',\n",
       "  \"'MMORPG 장인' 엔씨, 장수 게임 '길드워2'로 해외 진출 박차\",\n",
       "  '바람 잘 날 없는 게임위…신뢰도 추락 어디까지',\n",
       "  '국가 수소 중점연구실 세운다… 수소 R&D 전략 통합',\n",
       "  '일감 몰아주기인가?…KT 하청업체 품질평가표 봤더니',\n",
       "  '[지금은 기후위기] 치솟는 이산화탄소 농도, 우리나라도 역대 최고치',\n",
       "  '인간, ‘여섯번째 대멸종’ 가속화 시킨다 [사이언스 브런치]',\n",
       "  \"'수능'처럼 국가 R&D 사업 손보나···예산 배분안 심의 결국 연기\",\n",
       "  'NASA, 가짜 화성기지에 우주인들 1년 간 가뒀다 [우주로 간다]',\n",
       "  '부산에서 핀란드로…\"글로벌에서 먹힌다\"는 이 사업 [긱스]',\n",
       "  '\"안건에만 물어라\"…소란 가득했던 KT 임시주총',\n",
       "  \"국산 RPA ‘체크메이트’ 앞세워… 시메이션, 금융권 '초자동화' 시장 돌풍\",\n",
       "  '\\'아이폰\\' 최고 희귀모델, 경매 나온다..\"예상 낙찰가 10만달러\"',\n",
       "  '\"주가 어쩔거냐\" 주주들 성토…새 이사회 꾸린 KT, 대표 선임 남았다',\n",
       "  '\\'카톡 대란\\' 8개월 만에 피해보상 완료 \"총 275억원\"',\n",
       "  '[르포] \"박종욱 의장 자격 있나\"… 주주들 성토장 된 KT 주총',\n",
       "  '주총 고비 넘긴 KT...차기 대표 선임 절차는, 시기는(종합)',\n",
       "  \"카카오 '판교발 서비스 오류' 피해보상 완료....총 275억원 규모\",\n",
       "  \"KT 대표, '주주 60%' 지지 얻어야 가능해진다\",\n",
       "  '[소부장 TF] ㉟ 반도체 박막증착 장비기업 유진테크, 불황에도 R&D 확대',\n",
       "  \"유령 입자 '중성미자' 우리은하에서 첫 검출\",\n",
       "  '\"2023년 게임체인저 될 것\" 카카오게임즈, \\'아레스\\' 흥행 자신감'])"
      ]
     },
     "execution_count": 12,
     "metadata": {},
     "output_type": "execute_result"
    }
   ],
   "source": [
    "len(article_list), article_list[:30]"
   ]
  },
  {
   "cell_type": "code",
   "execution_count": 13,
   "id": "220e4907",
   "metadata": {},
   "outputs": [],
   "source": [
    "import threading\n",
    "import pandas as pd\n",
    "\n",
    "df = pd.DataFrame(columns=[\"title\"])"
   ]
  },
  {
   "cell_type": "code",
   "execution_count": 14,
   "id": "5e5cf90f",
   "metadata": {
    "scrolled": true
   },
   "outputs": [
    {
     "name": "stdout",
     "output_type": "stream",
     "text": [
      "Empty DataFrame\n",
      "Columns: [title]\n",
      "Index: []\n"
     ]
    }
   ],
   "source": [
    "print(df)"
   ]
  },
  {
   "cell_type": "code",
   "execution_count": 15,
   "id": "08572215",
   "metadata": {},
   "outputs": [
    {
     "data": {
      "text/plain": [
       "0"
      ]
     },
     "execution_count": 15,
     "metadata": {},
     "output_type": "execute_result"
    }
   ],
   "source": [
    "len(df)"
   ]
  },
  {
   "cell_type": "code",
   "execution_count": 30,
   "id": "ad414d77",
   "metadata": {},
   "outputs": [],
   "source": [
    "def get_article(page):\n",
    "    driver = webdriver.Chrome(service=ChromeService(ChromeDriverManager().install()))\n",
    "    \n",
    "    driver.get(\n",
    "    \"http://news.naver.com/main/main.nhn?mode=LSD&mid=shm&sid1=105#&date=%2000:00:00&page=\" + str(page))\n",
    "    articles = driver.find_elements(By.CSS_SELECTOR, '#section_body li')\n",
    "    \n",
    "    for article in articles:\n",
    "        title = article.find_element(By.CSS_SELECTOR, 'dt:not(.photo) > a').text\n",
    "        df.loc[len(df)] = {\n",
    "            \"title\" : title,\n",
    "        }\n",
    "        \n",
    "    driver.quit()"
   ]
  },
  {
   "cell_type": "code",
   "execution_count": 31,
   "id": "8b34a404",
   "metadata": {},
   "outputs": [
    {
     "name": "stdout",
     "output_type": "stream",
     "text": [
      "Wall time: 35.4 s\n"
     ]
    }
   ],
   "source": [
    "%%time\n",
    "for page in range(1,5):\n",
    "    get_article(page)"
   ]
  },
  {
   "cell_type": "code",
   "execution_count": 32,
   "id": "4368ac5b",
   "metadata": {},
   "outputs": [
    {
     "data": {
      "text/html": [
       "<div>\n",
       "<style scoped>\n",
       "    .dataframe tbody tr th:only-of-type {\n",
       "        vertical-align: middle;\n",
       "    }\n",
       "\n",
       "    .dataframe tbody tr th {\n",
       "        vertical-align: top;\n",
       "    }\n",
       "\n",
       "    .dataframe thead th {\n",
       "        text-align: right;\n",
       "    }\n",
       "</style>\n",
       "<table border=\"1\" class=\"dataframe\">\n",
       "  <thead>\n",
       "    <tr style=\"text-align: right;\">\n",
       "      <th></th>\n",
       "      <th>title</th>\n",
       "    </tr>\n",
       "  </thead>\n",
       "  <tbody>\n",
       "    <tr>\n",
       "      <th>75</th>\n",
       "      <td>KT, 임시 주총서 신규 사외이사 7인 선임…차기 대표 인선 본격화</td>\n",
       "    </tr>\n",
       "    <tr>\n",
       "      <th>76</th>\n",
       "      <td>새 이사진 꾸린 KT, CEO 인선 레이스 돌입</td>\n",
       "    </tr>\n",
       "    <tr>\n",
       "      <th>77</th>\n",
       "      <td>KT 새 이사회 구성…정상화 첫발 뗐다</td>\n",
       "    </tr>\n",
       "    <tr>\n",
       "      <th>78</th>\n",
       "      <td>인공지능 활용력, 미래에는 나의 경쟁력이 된다</td>\n",
       "    </tr>\n",
       "    <tr>\n",
       "      <th>79</th>\n",
       "      <td>\"UAM 경쟁력 강화\"…SKT, 美 조비에 1억달러 지분 투자</td>\n",
       "    </tr>\n",
       "  </tbody>\n",
       "</table>\n",
       "</div>"
      ],
      "text/plain": [
       "                                    title\n",
       "75  KT, 임시 주총서 신규 사외이사 7인 선임…차기 대표 인선 본격화\n",
       "76             새 이사진 꾸린 KT, CEO 인선 레이스 돌입\n",
       "77                  KT 새 이사회 구성…정상화 첫발 뗐다\n",
       "78              인공지능 활용력, 미래에는 나의 경쟁력이 된다\n",
       "79     \"UAM 경쟁력 강화\"…SKT, 美 조비에 1억달러 지분 투자"
      ]
     },
     "execution_count": 32,
     "metadata": {},
     "output_type": "execute_result"
    }
   ],
   "source": [
    "df.tail()"
   ]
  },
  {
   "cell_type": "code",
   "execution_count": 33,
   "id": "0441c0ce",
   "metadata": {},
   "outputs": [
    {
     "data": {
      "text/html": [
       "<div>\n",
       "<style scoped>\n",
       "    .dataframe tbody tr th:only-of-type {\n",
       "        vertical-align: middle;\n",
       "    }\n",
       "\n",
       "    .dataframe tbody tr th {\n",
       "        vertical-align: top;\n",
       "    }\n",
       "\n",
       "    .dataframe thead th {\n",
       "        text-align: right;\n",
       "    }\n",
       "</style>\n",
       "<table border=\"1\" class=\"dataframe\">\n",
       "  <thead>\n",
       "    <tr style=\"text-align: right;\">\n",
       "      <th></th>\n",
       "      <th>title</th>\n",
       "    </tr>\n",
       "  </thead>\n",
       "  <tbody>\n",
       "    <tr>\n",
       "      <th>0</th>\n",
       "      <td>韓 소부장, '세미콘차이나'서 첨단 기술 뽐내</td>\n",
       "    </tr>\n",
       "    <tr>\n",
       "      <th>1</th>\n",
       "      <td>\"K-패션, 일본 진출 적기…한국식 트렌디함, 독될 수도\" [현장+]</td>\n",
       "    </tr>\n",
       "    <tr>\n",
       "      <th>2</th>\n",
       "      <td>의사 출신 고위공직자들 ‘헬스케어·백신주 사랑’...재산 내역봤더니</td>\n",
       "    </tr>\n",
       "    <tr>\n",
       "      <th>3</th>\n",
       "      <td>\"韓매출 5배 성장\"...에코백스, 종합 로봇가전 회사 도약</td>\n",
       "    </tr>\n",
       "    <tr>\n",
       "      <th>4</th>\n",
       "      <td>갤럭시Z플립5 \"홈버튼·뒤로가기에 앱은 12개?\" 외부 시연 영상 [글로벌 IT슈]</td>\n",
       "    </tr>\n",
       "    <tr>\n",
       "      <th>...</th>\n",
       "      <td>...</td>\n",
       "    </tr>\n",
       "    <tr>\n",
       "      <th>75</th>\n",
       "      <td>KT, 임시 주총서 신규 사외이사 7인 선임…차기 대표 인선 본격화</td>\n",
       "    </tr>\n",
       "    <tr>\n",
       "      <th>76</th>\n",
       "      <td>새 이사진 꾸린 KT, CEO 인선 레이스 돌입</td>\n",
       "    </tr>\n",
       "    <tr>\n",
       "      <th>77</th>\n",
       "      <td>KT 새 이사회 구성…정상화 첫발 뗐다</td>\n",
       "    </tr>\n",
       "    <tr>\n",
       "      <th>78</th>\n",
       "      <td>인공지능 활용력, 미래에는 나의 경쟁력이 된다</td>\n",
       "    </tr>\n",
       "    <tr>\n",
       "      <th>79</th>\n",
       "      <td>\"UAM 경쟁력 강화\"…SKT, 美 조비에 1억달러 지분 투자</td>\n",
       "    </tr>\n",
       "  </tbody>\n",
       "</table>\n",
       "<p>80 rows × 1 columns</p>\n",
       "</div>"
      ],
      "text/plain": [
       "                                             title\n",
       "0                        韓 소부장, '세미콘차이나'서 첨단 기술 뽐내\n",
       "1           \"K-패션, 일본 진출 적기…한국식 트렌디함, 독될 수도\" [현장+]\n",
       "2            의사 출신 고위공직자들 ‘헬스케어·백신주 사랑’...재산 내역봤더니\n",
       "3                \"韓매출 5배 성장\"...에코백스, 종합 로봇가전 회사 도약\n",
       "4   갤럭시Z플립5 \"홈버튼·뒤로가기에 앱은 12개?\" 외부 시연 영상 [글로벌 IT슈]\n",
       "..                                             ...\n",
       "75           KT, 임시 주총서 신규 사외이사 7인 선임…차기 대표 인선 본격화\n",
       "76                      새 이사진 꾸린 KT, CEO 인선 레이스 돌입\n",
       "77                           KT 새 이사회 구성…정상화 첫발 뗐다\n",
       "78                       인공지능 활용력, 미래에는 나의 경쟁력이 된다\n",
       "79              \"UAM 경쟁력 강화\"…SKT, 美 조비에 1억달러 지분 투자\n",
       "\n",
       "[80 rows x 1 columns]"
      ]
     },
     "execution_count": 33,
     "metadata": {},
     "output_type": "execute_result"
    }
   ],
   "source": [
    "df"
   ]
  }
 ],
 "metadata": {
  "kernelspec": {
   "display_name": "Python 3 (ipykernel)",
   "language": "python",
   "name": "python3"
  },
  "language_info": {
   "codemirror_mode": {
    "name": "ipython",
    "version": 3
   },
   "file_extension": ".py",
   "mimetype": "text/x-python",
   "name": "python",
   "nbconvert_exporter": "python",
   "pygments_lexer": "ipython3",
   "version": "3.9.13"
  }
 },
 "nbformat": 4,
 "nbformat_minor": 5
}
