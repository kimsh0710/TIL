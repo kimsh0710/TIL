{
 "cells": [
  {
   "cell_type": "code",
   "execution_count": 1,
   "id": "affe7c38",
   "metadata": {},
   "outputs": [],
   "source": [
    "from selenium import webdriver\n",
    "from selenium.webdriver.chrome.service import Service as ChromeService\n",
    "from selenium.webdriver.common.keys import Keys\n",
    "from webdriver_manager.chrome import ChromeDriverManager\n",
    "from selenium.webdriver.common.by import By\n",
    "from selenium.webdriver.chrome.options import Options\n",
    "import threading\n",
    "import time\n",
    "import os\n",
    "import urllib.request"
   ]
  },
  {
   "cell_type": "code",
   "execution_count": 26,
   "id": "eba26ba9",
   "metadata": {},
   "outputs": [],
   "source": [
    "driver = webdriver.Chrome(service=ChromeService(ChromeDriverManager().install()))\n",
    "chrome_options = Options()\n",
    "chrome_options.add_experimental_option(\"detach\", True)"
   ]
  },
  {
   "cell_type": "code",
   "execution_count": 27,
   "id": "a5e0e2d9",
   "metadata": {},
   "outputs": [],
   "source": [
    "driver.get(\"https://www.google.co.kr/imghp?hl=ko&ogbl\")"
   ]
  },
  {
   "cell_type": "code",
   "execution_count": 28,
   "id": "9c20c28f",
   "metadata": {},
   "outputs": [],
   "source": [
    "# 검색어 지정\n",
    "search = \"루피\"\n",
    "\n",
    "# 검색창에 검색어 입력 후 엔터\n",
    "elem = driver.find_element(By.NAME, \"q\") # 검색창 찾기 (태그 내 names이 \"q\" 임)\n",
    "elem.send_keys(search) # 검색어 넣기\n",
    "elem.send_keys(Keys.RETURN) # 엔터\n",
    "driver.implicitly_wait(3)"
   ]
  },
  {
   "cell_type": "code",
   "execution_count": null,
   "id": "f3dc06d4",
   "metadata": {},
   "outputs": [],
   "source": [
    "# 이미지있는 태그 찾고 클릭 (미리보기가 아닌 진짜 이미지 다운 받아야 되므로 클릭 필요)\n",
    "images = driver.find_elements(By.CSS_SELECTOR, '.rg_i.Q4LuWd')[0].click()\n",
    "time.sleep(3)\n",
    "# 진짜 이미지 태그의 class : r48jcc pT0Scc iPVvYb\n",
    "# 진짜 이미지의 src 주소 찾아야 함.\n",
    "images_src = driver.find_elements(By.CSS_SELECTOR, '.r48jcc.pT0Scc.iPVvYb')[0].get_attribute(\"src\")\n",
    "images_src"
   ]
  },
  {
   "cell_type": "code",
   "execution_count": null,
   "id": "9bd5d2b0",
   "metadata": {},
   "outputs": [],
   "source": [
    "urllib.request.urlretrieve(images_src, \"r.jpg\")"
   ]
  },
  {
   "cell_type": "markdown",
   "id": "ab75492f",
   "metadata": {},
   "source": [
    "### for문으로 작성하기"
   ]
  },
  {
   "cell_type": "code",
   "execution_count": null,
   "id": "0641885e",
   "metadata": {},
   "outputs": [],
   "source": [
    "images = driver.find_elements(By.CSS_SELECTOR, '.rg_i.Q4LuWd')\n",
    "count = 1\n",
    "\n",
    "download_folder = 'C:/JupyterTest/download'\n",
    "#images_src_list = []\n",
    "for index, image in enumerate(images):\n",
    "    if index >= 3:\n",
    "        break\n",
    "        \n",
    "    image.click()\n",
    "    time.sleep(3)\n",
    "    time.sleep(5)\n",
    "    images_src = driver.find_element(By.CSS_SELECTOR, '.r48jcc.pT0Scc.iPVvYb').get_attribute(\"src\")\n",
    "    #images_src_list.append(images_src)\n",
    "    file_path = os.path.join(download_folder, f\"{count}.jpg\")\n",
    "    urllib.request.urlretrieve(images_src, file_path)\n",
    "    count += 1\n",
    "        \n"
   ]
  },
  {
   "cell_type": "code",
   "execution_count": null,
   "id": "8de12dee",
   "metadata": {},
   "outputs": [],
   "source": []
  }
 ],
 "metadata": {
  "kernelspec": {
   "display_name": "Python 3 (ipykernel)",
   "language": "python",
   "name": "python3"
  },
  "language_info": {
   "codemirror_mode": {
    "name": "ipython",
    "version": 3
   },
   "file_extension": ".py",
   "mimetype": "text/x-python",
   "name": "python",
   "nbconvert_exporter": "python",
   "pygments_lexer": "ipython3",
   "version": "3.9.13"
  }
 },
 "nbformat": 4,
 "nbformat_minor": 5
}
