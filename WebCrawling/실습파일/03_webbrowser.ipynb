{
 "cells": [
  {
   "cell_type": "markdown",
   "id": "e8c293b5",
   "metadata": {},
   "source": [
    "# 웹 스크랩핑\n",
    "\n",
    "## 웹 브라우저로 웹사이트 접속하기"
   ]
  },
  {
   "cell_type": "markdown",
   "id": "9a4c0419",
   "metadata": {},
   "source": [
    "### 1. 하나의 웹 사이트에 접속하기"
   ]
  },
  {
   "cell_type": "markdown",
   "id": "143aea91",
   "metadata": {},
   "source": [
    "* 사이트 하나를 지정한 후 웹 브라우저를 열어서 접속"
   ]
  },
  {
   "cell_type": "code",
   "execution_count": 1,
   "id": "87eba782",
   "metadata": {},
   "outputs": [
    {
     "data": {
      "text/plain": [
       "True"
      ]
     },
     "execution_count": 1,
     "metadata": {},
     "output_type": "execute_result"
    }
   ],
   "source": [
    "import webbrowser\n",
    "\n",
    "url = \"www.naver.com\"\n",
    "webbrowser.open(url)"
   ]
  },
  {
   "cell_type": "markdown",
   "id": "6572213f",
   "metadata": {},
   "source": [
    "* 네이버에서 특정 검색어를 입력해 결과 얻기"
   ]
  },
  {
   "cell_type": "code",
   "execution_count": 3,
   "id": "8f38d624",
   "metadata": {},
   "outputs": [
    {
     "data": {
      "text/plain": [
       "True"
      ]
     },
     "execution_count": 3,
     "metadata": {},
     "output_type": "execute_result"
    }
   ],
   "source": [
    "import webbrowser\n",
    "\n",
    "naver_search_url = \"http://search.naver.com/search.naver?query=\"\n",
    "search_word = '파이썬'\n",
    "url = naver_search_url + search_word\n",
    "\n",
    "webbrowser.open_new(url)"
   ]
  },
  {
   "cell_type": "markdown",
   "id": "da5d8a5d",
   "metadata": {},
   "source": [
    "* 구글에서도 검색을 위한 웹 사이트 주소(www.google.com)와 \n",
    "    검색어를 연결해 입력하면 검색 결과가 나온다. "
   ]
  },
  {
   "cell_type": "code",
   "execution_count": 4,
   "id": "8a772436",
   "metadata": {},
   "outputs": [
    {
     "data": {
      "text/plain": [
       "True"
      ]
     },
     "execution_count": 4,
     "metadata": {},
     "output_type": "execute_result"
    }
   ],
   "source": [
    "import webbrowser\n",
    "\n",
    "google_url = \"www.google.com/search?q=\"\n",
    "search_word = 'python'\n",
    "url = google_url + search_word\n",
    "\n",
    "webbrowser.open_new(url)"
   ]
  },
  {
   "cell_type": "markdown",
   "id": "10b7f8c0",
   "metadata": {},
   "source": [
    "### 2. 여러개의 웹 사이트에 접속하기"
   ]
  },
  {
   "cell_type": "markdown",
   "id": "6ed05920",
   "metadata": {},
   "source": [
    "* url 주소 리스트와 for 문을 이용"
   ]
  },
  {
   "cell_type": "code",
   "execution_count": 5,
   "id": "95f026c7",
   "metadata": {},
   "outputs": [],
   "source": [
    "import webbrowser\n",
    "\n",
    "urls = ['www.naver.com', 'www.daum.net', 'www.google.com']\n",
    "\n",
    "for url in urls:\n",
    "    webbrowser.open_new(url)"
   ]
  },
  {
   "cell_type": "markdown",
   "id": "005819a8",
   "metadata": {},
   "source": [
    "* 여러 단어 리스트와 for문을 이용"
   ]
  },
  {
   "cell_type": "code",
   "execution_count": 8,
   "id": "2ae14d34",
   "metadata": {},
   "outputs": [],
   "source": [
    "import webbrowser\n",
    "\n",
    "google_url = \"www.google.com/search?q=\"\n",
    "serach_words = ['python web scraping', 'python webbrowser']\n",
    "\n",
    "for search_word in serach_words:\n",
    "    webbrowser.open_new(google_url + search_word)"
   ]
  },
  {
   "cell_type": "markdown",
   "id": "8a57ca5c",
   "metadata": {},
   "source": [
    "---"
   ]
  },
  {
   "cell_type": "markdown",
   "id": "1afdce28",
   "metadata": {},
   "source": [
    "## 웹 스크랩핑을 위한 기본 지식"
   ]
  },
  {
   "cell_type": "markdown",
   "id": "244ab71f",
   "metadata": {},
   "source": [
    "### 데이터의 요청과 응답 과정"
   ]
  },
  {
   "cell_type": "markdown",
   "id": "4de6189d",
   "metadata": {},
   "source": [
    "#### HTML의 기본 구조"
   ]
  },
  {
   "cell_type": "markdown",
   "id": "03b0756f",
   "metadata": {},
   "source": [
    "* HTML 생성"
   ]
  },
  {
   "cell_type": "code",
   "execution_count": 9,
   "id": "4df65c81",
   "metadata": {},
   "outputs": [
    {
     "name": "stdout",
     "output_type": "stream",
     "text": [
      "Writing C:\\JupyterTest\\HTML_example.html\n"
     ]
    }
   ],
   "source": [
    "%%writefile C:\\JupyterTest\\HTML_example.html\n",
    "<!doctype html>\n",
    "<html>\n",
    "    <head>\n",
    "        <meta charse=\"utf-8\">\n",
    "        <title>이것은 HTML 예제</title>\n",
    "    </head>\n",
    "    <body>\n",
    "        <h1>출간된 책 정보</h>\n",
    "        <p id=\"book_title\">이해가 쏙쏙되는 파이썬</p>\n",
    "        <p id=\"author\">홍길동</p>\n",
    "        <p id=\"publisher\">위키북스 출판사</p>\n",
    "        <p id=\"year\">2018</p>\n",
    "    </body>\n",
    "</html>\n",
    "        "
   ]
  },
  {
   "cell_type": "code",
   "execution_count": 10,
   "id": "b45a1585",
   "metadata": {},
   "outputs": [
    {
     "name": "stdout",
     "output_type": "stream",
     "text": [
      "Writing C:\\JupyterTest\\HTML_example2.html\n"
     ]
    }
   ],
   "source": [
    "%%writefile C:\\JupyterTest\\HTML_example2.html\n",
    "<!doctype html>\n",
    "<html>\n",
    "    <head>\n",
    "        <meta charse=\"utf-8\">\n",
    "        <title>이것은 HTML 예제</title>\n",
    "    </head>\n",
    "    <body>\n",
    "        <h1>출간된 책 정보</h>\n",
    "        <p>이해가 쏙쏙되는 파이썬</p>\n",
    "        <p>홍길동</p>\n",
    "        <p>위키북스 출판사</p>\n",
    "        <p>2018</p>\n",
    "    </body>\n",
    "</html>\n",
    "        "
   ]
  },
  {
   "cell_type": "markdown",
   "id": "27f60d0d",
   "metadata": {},
   "source": [
    "---"
   ]
  },
  {
   "cell_type": "markdown",
   "id": "e07e2a9c",
   "metadata": {},
   "source": [
    "### 웹 페이지의 HTML 소스 갖고 오기"
   ]
  },
  {
   "cell_type": "markdown",
   "id": "383723fa",
   "metadata": {},
   "source": [
    "* 구글 웹 페이지의 소스코드 "
   ]
  },
  {
   "cell_type": "code",
   "execution_count": 11,
   "id": "5d15b5fc",
   "metadata": {},
   "outputs": [
    {
     "data": {
      "text/plain": [
       "<Response [200]>"
      ]
     },
     "execution_count": 11,
     "metadata": {},
     "output_type": "execute_result"
    }
   ],
   "source": [
    "import requests\n",
    "\n",
    "r = requests.get(\"https://www.google.co.kr\")\n",
    "r"
   ]
  },
  {
   "cell_type": "markdown",
   "id": "9eda2bd5",
   "metadata": {},
   "source": [
    "* 응답 객체를 잘 가져왔는지 확인만 하면 되므로 HTML 파일 전체 중 일부분 출력  \n",
    "* request.get() : html 소스 가져오기 (url가져오기x) "
   ]
  },
  {
   "cell_type": "code",
   "execution_count": 12,
   "id": "2dd8cfe5",
   "metadata": {},
   "outputs": [
    {
     "data": {
      "text/plain": [
       "'<!doctype html><html itemscope=\"\" itemtype=\"http://schema.org/WebPage\" lang=\"ko\"><head><meta content'"
      ]
     },
     "execution_count": 12,
     "metadata": {},
     "output_type": "execute_result"
    }
   ],
   "source": [
    "r.text[0:100]"
   ]
  },
  {
   "cell_type": "markdown",
   "id": "37d2918e",
   "metadata": {},
   "source": [
    "* 한번에 수행 가능"
   ]
  },
  {
   "cell_type": "code",
   "execution_count": 13,
   "id": "9122edaa",
   "metadata": {},
   "outputs": [
    {
     "data": {
      "text/plain": [
       "'<!doctype html><html itemscope=\"\" itemtype=\"http://schema.org/WebPage\" lang=\"ko\"><head><meta content'"
      ]
     },
     "execution_count": 13,
     "metadata": {},
     "output_type": "execute_result"
    }
   ],
   "source": [
    "import requests\n",
    "\n",
    "html = requests.get(\"https://www.google.co.kr\").text\n",
    "html[0:100]"
   ]
  },
  {
   "cell_type": "markdown",
   "id": "37481fd4",
   "metadata": {},
   "source": [
    "---"
   ]
  },
  {
   "cell_type": "markdown",
   "id": "1dd734fd",
   "metadata": {},
   "source": [
    "### HTML 소스코드를 분석하고 처리하기"
   ]
  },
  {
   "cell_type": "markdown",
   "id": "2af14f26",
   "metadata": {},
   "source": [
    "#### 데이터 찾고 추출하기"
   ]
  },
  {
   "cell_type": "markdown",
   "id": "986a3063",
   "metadata": {},
   "source": [
    "* HTML 코드를 분석해 원하는 데이터를 추출하는 방법  \n",
    "* HTML 코드를 분석하기 위해서는 HTMLL 코드 구문을 이해하고 요소별 HTML 코드를 분류해야한다.  \n",
    "* BeautifulSoup 라이브러리를 이용해 HTML 소스를 파싱하고 태그나 속성을 통해 원하는 데이터를 추출"
   ]
  },
  {
   "cell_type": "code",
   "execution_count": 14,
   "id": "eb946aed",
   "metadata": {},
   "outputs": [
    {
     "data": {
      "text/plain": [
       "<html><body><div><span> <a href=\"http://www.naver.com\">naver</a> <a href=\"https://www.google.com\">google</a> <a href=\"http://www.daum.net/\">daum</a> </span></div></body></html>"
      ]
     },
     "execution_count": 14,
     "metadata": {},
     "output_type": "execute_result"
    }
   ],
   "source": [
    "from bs4 import BeautifulSoup\n",
    "\n",
    "# 테스트용ㅇ html 코드\n",
    "html = \"\"\"<html><body><div><span>\\\n",
    "        <a href=http://www.naver.com>naver</a>\\\n",
    "        <a href=https://www.google.com>google</a>\\\n",
    "        <a href=http://www.daum.net/>daum</a>\\\n",
    "        </span></div></body></html>\"\"\"\n",
    "\n",
    "# BeautifulSoup를 이용해 HTML 소스를 파싱\n",
    "soup = BeautifulSoup(html, 'lxml')\n",
    "soup"
   ]
  },
  {
   "cell_type": "markdown",
   "id": "847dba1e",
   "metadata": {},
   "source": [
    "* 파싱 결과를 좀 더 보기 편하게 HTML 구조의 형태로 확인"
   ]
  },
  {
   "cell_type": "code",
   "execution_count": 16,
   "id": "e7f4550e",
   "metadata": {},
   "outputs": [
    {
     "name": "stdout",
     "output_type": "stream",
     "text": [
      "<html>\n",
      " <body>\n",
      "  <div>\n",
      "   <span>\n",
      "    <a href=\"http://www.naver.com\">\n",
      "     naver\n",
      "    </a>\n",
      "    <a href=\"https://www.google.com\">\n",
      "     google\n",
      "    </a>\n",
      "    <a href=\"http://www.daum.net/\">\n",
      "     daum\n",
      "    </a>\n",
      "   </span>\n",
      "  </div>\n",
      " </body>\n",
      "</html>\n"
     ]
    }
   ],
   "source": [
    "print(soup.prettify())"
   ]
  },
  {
   "cell_type": "markdown",
   "id": "3d7288cb",
   "metadata": {},
   "source": [
    "* 파싱한 결과에서 BeautifulSoup.find('태그')를 수행하면  \n",
    "* HTML 소스코드에 해당 '태그'가 있는 첫번째 요소를 찾아서 반환"
   ]
  },
  {
   "cell_type": "code",
   "execution_count": 17,
   "id": "995281e1",
   "metadata": {},
   "outputs": [
    {
     "data": {
      "text/plain": [
       "<a href=\"http://www.naver.com\">naver</a>"
      ]
     },
     "execution_count": 17,
     "metadata": {},
     "output_type": "execute_result"
    }
   ],
   "source": [
    "soup.find('a')"
   ]
  },
  {
   "cell_type": "markdown",
   "id": "f39483c8",
   "metadata": {},
   "source": [
    "* get_text( ) 는 HTML 소스코드의 요소에서 태그와 속성을 제거하고 텍스트 문자만 반환  \n",
    "* get_text( ) 는 원하는 HTML 요소를 가져온 후에 마지막 단계에서 요소의 텍스트 부분만 추출할 때 이용"
   ]
  },
  {
   "cell_type": "code",
   "execution_count": 18,
   "id": "104e8c2b",
   "metadata": {},
   "outputs": [
    {
     "data": {
      "text/plain": [
       "'naver'"
      ]
     },
     "execution_count": 18,
     "metadata": {},
     "output_type": "execute_result"
    }
   ],
   "source": [
    "soup.find('a').get_text()"
   ]
  },
  {
   "cell_type": "markdown",
   "id": "d52214d1",
   "metadata": {},
   "source": [
    "* HTML 코드 안의 모든 a 태그를 찾아서 a 태그로 시작하는 모든 요소를 다 반환하려면  \n",
    "* BeautifulSoup.find_all('태그')를 이용"
   ]
  },
  {
   "cell_type": "code",
   "execution_count": 19,
   "id": "ee0bceff",
   "metadata": {},
   "outputs": [
    {
     "data": {
      "text/plain": [
       "[<a href=\"http://www.naver.com\">naver</a>,\n",
       " <a href=\"https://www.google.com\">google</a>,\n",
       " <a href=\"http://www.daum.net/\">daum</a>]"
      ]
     },
     "execution_count": 19,
     "metadata": {},
     "output_type": "execute_result"
    }
   ],
   "source": [
    "soup.find_all('a')"
   ]
  },
  {
   "cell_type": "markdown",
   "id": "4bc23aeb",
   "metadata": {},
   "source": [
    "* 태그 이름의 모든 요소를 반환하는 find_all( )의 결과는 리스트 형태로 반환  \n",
    "* get_text( )는 리스트에 적용할 수 없으므로  \n",
    "* for 문을 이용해 항목별로 get_text( )를 적용"
   ]
  },
  {
   "cell_type": "code",
   "execution_count": 20,
   "id": "ea9521c2",
   "metadata": {},
   "outputs": [
    {
     "name": "stdout",
     "output_type": "stream",
     "text": [
      "naver\n",
      "google\n",
      "daum\n"
     ]
    }
   ],
   "source": [
    "site_names = soup.find_all('a')\n",
    "for site_name in site_names:\n",
    "    print(site_name.get_text())"
   ]
  },
  {
   "cell_type": "markdown",
   "id": "b7453a0b",
   "metadata": {},
   "source": [
    "---"
   ]
  },
  {
   "cell_type": "markdown",
   "id": "b438f3fb",
   "metadata": {},
   "source": [
    "* HTML 파일을 작성한 후에 html2 변수에 할당"
   ]
  },
  {
   "cell_type": "code",
   "execution_count": 22,
   "id": "c29fdc52",
   "metadata": {},
   "outputs": [],
   "source": [
    "from bs4 import BeautifulSoup\n",
    "\n",
    "# 테스트용 HTML 코드\n",
    "html2 = \"\"\"\n",
    "<html>\n",
    " <head>\n",
    "  <title>작품과 작가 모음</title>\n",
    " </head>\n",
    " <body>\n",
    "  <h1>책 정보</h1>\n",
    "  <p id=\"book_title\">토지</p>\n",
    "  <p id=\"author\">박경리</p>\n",
    "  \n",
    "  <p id=\"book_title\">태백산맥</p>\n",
    "  <p id=\"author\">조정래</p>\n",
    "\n",
    "  <p id=\"book_title\">감옥으로부터의 사색</p>\n",
    "  <p id=\"author\">신영복</p>\n",
    " </body>\n",
    "</html>\n",
    "\"\"\" \n",
    "\n",
    "soup2 = BeautifulSoup(html2, \"lxml\")"
   ]
  },
  {
   "cell_type": "markdown",
   "id": "3045b67a",
   "metadata": {},
   "source": [
    "* BeautifulSoup의 다양한 기능을 활용해 HTML 소스로부터 필요한 데이터를 추출  \n",
    "* HTML 소스에서 title 태그의 요소는 'BeautifulSoup.title'을 이용해 가져올 수 있음"
   ]
  },
  {
   "cell_type": "code",
   "execution_count": 23,
   "id": "3f6286a1",
   "metadata": {},
   "outputs": [
    {
     "data": {
      "text/plain": [
       "<title>작품과 작가 모음</title>"
      ]
     },
     "execution_count": 23,
     "metadata": {},
     "output_type": "execute_result"
    }
   ],
   "source": [
    "soup2.title"
   ]
  },
  {
   "cell_type": "markdown",
   "id": "450089f0",
   "metadata": {},
   "source": [
    "* HTML 소스의 body 태그의 요소는 'BeautiSoup.body'를 이용해 가져올 수 있음"
   ]
  },
  {
   "cell_type": "code",
   "execution_count": 24,
   "id": "73254e9a",
   "metadata": {},
   "outputs": [
    {
     "data": {
      "text/plain": [
       "<body>\n",
       "<h1>책 정보</h1>\n",
       "<p id=\"book_title\">토지</p>\n",
       "<p id=\"author\">박경리</p>\n",
       "<p id=\"book_title\">태백산맥</p>\n",
       "<p id=\"author\">조정래</p>\n",
       "<p id=\"book_title\">감옥으로부터의 사색</p>\n",
       "<p id=\"author\">신영복</p>\n",
       "</body>"
      ]
     },
     "execution_count": 24,
     "metadata": {},
     "output_type": "execute_result"
    }
   ],
   "source": [
    "soup2.body"
   ]
  },
  {
   "cell_type": "markdown",
   "id": "889d1e8a",
   "metadata": {},
   "source": [
    "* body 태그 요소 내에 h1태그의 요소는 'BeautifulSoup.body.h1'로 가져올 수 있음"
   ]
  },
  {
   "cell_type": "code",
   "execution_count": 25,
   "id": "3d9828e1",
   "metadata": {},
   "outputs": [
    {
     "data": {
      "text/plain": [
       "<h1>책 정보</h1>"
      ]
     },
     "execution_count": 25,
     "metadata": {},
     "output_type": "execute_result"
    }
   ],
   "source": [
    "soup2.body.h1"
   ]
  },
  {
   "cell_type": "markdown",
   "id": "afdf16d8",
   "metadata": {},
   "source": [
    "* find_all( )을 이용하면 변수 html2에 있는 HTML 소스코드에서 p태그가 들어간 요소를  모두 가져올 수 있음"
   ]
  },
  {
   "cell_type": "code",
   "execution_count": 27,
   "id": "ea496885",
   "metadata": {},
   "outputs": [
    {
     "data": {
      "text/plain": [
       "[<p id=\"book_title\">토지</p>,\n",
       " <p id=\"author\">박경리</p>,\n",
       " <p id=\"book_title\">태백산맥</p>,\n",
       " <p id=\"author\">조정래</p>,\n",
       " <p id=\"book_title\">감옥으로부터의 사색</p>,\n",
       " <p id=\"author\">신영복</p>]"
      ]
     },
     "execution_count": 27,
     "metadata": {},
     "output_type": "execute_result"
    }
   ],
   "source": [
    "soup2.find_all('p')"
   ]
  },
  {
   "cell_type": "markdown",
   "id": "3dc893a4",
   "metadata": {},
   "source": [
    "* p 태그 중 책 제목과 작가를 분리해서 가져오려면  \n",
    "* find( )나 find_all( )을 이용할 때 태그 뿐만 아니라\n",
    "* 태그 내의 '속성'도 함께 지정  \n",
    "\n",
    "\n",
    "* BeautifulSoup.find_all('태그','속성')\n",
    "* BeautifulSoup.find('태그', '속성')\n",
    "\n",
    "\n",
    "* html2의 HTML 코드의 p태그 요소 중 id가 book_title인 속성을 갖는 첫번째 요소만 반환"
   ]
  },
  {
   "cell_type": "code",
   "execution_count": 28,
   "id": "e2309b37",
   "metadata": {},
   "outputs": [
    {
     "data": {
      "text/plain": [
       "<p id=\"book_title\">토지</p>"
      ]
     },
     "execution_count": 28,
     "metadata": {},
     "output_type": "execute_result"
    }
   ],
   "source": [
    "soup2.find('p', {\"id\":\"book_title\"})"
   ]
  },
  {
   "cell_type": "markdown",
   "id": "9114ba5f",
   "metadata": {},
   "source": [
    "* p태그 요소 중 id가 author인 속성을 갖는 첫번째 요소만 반환"
   ]
  },
  {
   "cell_type": "code",
   "execution_count": 29,
   "id": "3e23d904",
   "metadata": {},
   "outputs": [
    {
     "data": {
      "text/plain": [
       "<p id=\"author\">박경리</p>"
      ]
     },
     "execution_count": 29,
     "metadata": {},
     "output_type": "execute_result"
    }
   ],
   "source": [
    "soup2.find('p', {\"id\":\"author\"})"
   ]
  },
  {
   "cell_type": "markdown",
   "id": "380815ee",
   "metadata": {},
   "source": [
    "* 조건을 만족하는 요소 전체를 가지고 오려면 find_all( )이용"
   ]
  },
  {
   "cell_type": "code",
   "execution_count": 30,
   "id": "4578dec4",
   "metadata": {},
   "outputs": [
    {
     "data": {
      "text/plain": [
       "[<p id=\"book_title\">토지</p>,\n",
       " <p id=\"book_title\">태백산맥</p>,\n",
       " <p id=\"book_title\">감옥으로부터의 사색</p>]"
      ]
     },
     "execution_count": 30,
     "metadata": {},
     "output_type": "execute_result"
    }
   ],
   "source": [
    "soup2.find_all('p', {\"id\":\"book_title\"})"
   ]
  },
  {
   "cell_type": "code",
   "execution_count": 31,
   "id": "5ef681c6",
   "metadata": {},
   "outputs": [
    {
     "data": {
      "text/plain": [
       "[<p id=\"author\">박경리</p>, <p id=\"author\">조정래</p>, <p id=\"author\">신영복</p>]"
      ]
     },
     "execution_count": 31,
     "metadata": {},
     "output_type": "execute_result"
    }
   ],
   "source": [
    "soup2.find_all('p', {\"id\":\"author\"})"
   ]
  },
  {
   "cell_type": "markdown",
   "id": "d48eda84",
   "metadata": {},
   "source": [
    "* 책 제목과 작가를 포함한 요소를 각각 추출한 후에 텍스트만 뽑는 코드"
   ]
  },
  {
   "cell_type": "code",
   "execution_count": 34,
   "id": "f146b1a6",
   "metadata": {},
   "outputs": [
    {
     "name": "stdout",
     "output_type": "stream",
     "text": [
      "토지/박경리\n",
      "태백산맥/조정래\n",
      "감옥으로부터의 사색/신영복\n"
     ]
    }
   ],
   "source": [
    "from bs4 import BeautifulSoup\n",
    "\n",
    "soup2 = BeautifulSoup(html2, \"lxml\")\n",
    "\n",
    "book_titles = soup2.find_all('p', {\"id\":\"book_title\"})\n",
    "authors = soup2.find_all('p', {\"id\":\"author\"})\n",
    "\n",
    "for book_title, author in zip(book_titles, authors):\n",
    "    print(book_title.get_text() + \"/\" + author.get_text())"
   ]
  },
  {
   "cell_type": "markdown",
   "id": "742d3846",
   "metadata": {},
   "source": [
    "---"
   ]
  },
  {
   "cell_type": "markdown",
   "id": "7d09033a",
   "metadata": {},
   "source": [
    "* css 선택자(selector)를 이용\n",
    "\n",
    "\n",
    "* css 선택자는 css에서 원하는 요소를 선택하는 것으로써 파이썬뿐만 아니라 다른 프로그래밍 언어에서도 HTML 소스를 처리할 때 많이 이용\n",
    "\n",
    "\n",
    "* BeautifulSoup도 'BeautifulSoup.select('태그 및 속성')를 통해 css 선택자를 지원\n",
    "* 'BeautifulSoup.select( )'의 인자로 '태그 및 속성'을 단계적으로 입력하면 원하는 요소를 찾을 수 있음"
   ]
  },
  {
   "cell_type": "markdown",
   "id": "837d3527",
   "metadata": {},
   "source": [
    "* html2 변수에 할당된 HTML 소스에서 body 태그 요소 내에 h1 태그 요소를 가지고 오기"
   ]
  },
  {
   "cell_type": "code",
   "execution_count": 37,
   "id": "50211d7d",
   "metadata": {},
   "outputs": [
    {
     "data": {
      "text/plain": [
       "[<h1>책 정보</h1>]"
      ]
     },
     "execution_count": 37,
     "metadata": {},
     "output_type": "execute_result"
    }
   ],
   "source": [
    "soup2.select('body h1')"
   ]
  },
  {
   "cell_type": "markdown",
   "id": "9c9f52fe",
   "metadata": {},
   "source": [
    "* body태그 요소 중에 p태그를 포함한 요소를 모두 갖고 오기"
   ]
  },
  {
   "cell_type": "code",
   "execution_count": 38,
   "id": "6b5d068d",
   "metadata": {},
   "outputs": [
    {
     "data": {
      "text/plain": [
       "[<p id=\"book_title\">토지</p>,\n",
       " <p id=\"author\">박경리</p>,\n",
       " <p id=\"book_title\">태백산맥</p>,\n",
       " <p id=\"author\">조정래</p>,\n",
       " <p id=\"book_title\">감옥으로부터의 사색</p>,\n",
       " <p id=\"author\">신영복</p>]"
      ]
     },
     "execution_count": 38,
     "metadata": {},
     "output_type": "execute_result"
    }
   ],
   "source": [
    "soup2.select('body p')"
   ]
  },
  {
   "cell_type": "markdown",
   "id": "25e4ad6a",
   "metadata": {},
   "source": [
    "* 변수 html2의 HTML 소스에서 p태그는 body태그 요소 내에만 있음"
   ]
  },
  {
   "cell_type": "code",
   "execution_count": 39,
   "id": "f3e430d1",
   "metadata": {},
   "outputs": [
    {
     "data": {
      "text/plain": [
       "[<p id=\"book_title\">토지</p>,\n",
       " <p id=\"author\">박경리</p>,\n",
       " <p id=\"book_title\">태백산맥</p>,\n",
       " <p id=\"author\">조정래</p>,\n",
       " <p id=\"book_title\">감옥으로부터의 사색</p>,\n",
       " <p id=\"author\">신영복</p>]"
      ]
     },
     "execution_count": 39,
     "metadata": {},
     "output_type": "execute_result"
    }
   ],
   "source": [
    "soup2.select('p')"
   ]
  },
  {
   "cell_type": "markdown",
   "id": "ae600ce2",
   "metadata": {},
   "source": [
    "* 태그 안의 속성과 속성값을 이용해 요소를 세밀하게 구분하여 추출\n",
    "* 태그 안의 속성이 class인 경우 '태그.class_속성값'으로 입력하고\n",
    "* 속성이 id인 경우에는 '태그#id_속성값'으로 입력해 추출"
   ]
  },
  {
   "cell_type": "markdown",
   "id": "4bea76db",
   "metadata": {},
   "source": [
    "* 태그 안에 있는 속성이 id이므로 'p#id_속성값'으로 원하는 요소를 추출"
   ]
  },
  {
   "cell_type": "code",
   "execution_count": 40,
   "id": "aba18093",
   "metadata": {},
   "outputs": [
    {
     "data": {
      "text/plain": [
       "[<p id=\"book_title\">토지</p>,\n",
       " <p id=\"book_title\">태백산맥</p>,\n",
       " <p id=\"book_title\">감옥으로부터의 사색</p>]"
      ]
     },
     "execution_count": 40,
     "metadata": {},
     "output_type": "execute_result"
    }
   ],
   "source": [
    "soup2.select('p#book_title')"
   ]
  },
  {
   "cell_type": "code",
   "execution_count": 41,
   "id": "af2152ee",
   "metadata": {},
   "outputs": [
    {
     "data": {
      "text/plain": [
       "[<p id=\"author\">박경리</p>, <p id=\"author\">조정래</p>, <p id=\"author\">신영복</p>]"
      ]
     },
     "execution_count": 41,
     "metadata": {},
     "output_type": "execute_result"
    }
   ],
   "source": [
    "soup2.select('p#author')"
   ]
  },
  {
   "cell_type": "markdown",
   "id": "9b56e73c",
   "metadata": {},
   "source": [
    "* class 속성이 있는 HTML 소스"
   ]
  },
  {
   "cell_type": "code",
   "execution_count": 42,
   "id": "be1a80b4",
   "metadata": {},
   "outputs": [
    {
     "name": "stdout",
     "output_type": "stream",
     "text": [
      "Writing C:\\JupyterTest\\HTML_example_my_site.html\n"
     ]
    }
   ],
   "source": [
    "%%writefile C:\\JupyterTest\\HTML_example_my_site.html\n",
    "<!doctype html>\n",
    "<html>\n",
    "  <head>\n",
    "    <meta charset=\"utf-8\">\n",
    "    <title>사이트 모음</title>\n",
    "  </head>\n",
    "  <body>\n",
    "    <p id=\"title\"><b>자주 가는 사이트 모음</b></p>\n",
    "    <p id=\"contents\">이곳은 자주 가는 사이트를 모아둔 곳입니다.</p>\n",
    "    <a href=\"http://www.naver.com\" class=\"portal\" id=\"naver\">네이버</a> <br>\n",
    "    <a href=\"https://www.google.com\" class=\"search\" id=\"google\">구글</a> <br>\n",
    "    <a href=\"http://www.daum.net\" class=\"portal\" id=\"daum\">다음</a> <br>\n",
    "    <a href=\"http://www.nl.go.kr\" class=\"government\" id=\"nl\">국립중앙도서관</a>\n",
    "  </body>\n",
    "</html>\n"
   ]
  },
  {
   "cell_type": "markdown",
   "id": "1043769f",
   "metadata": {},
   "source": [
    "* 'BeautifulSoup.select('태그 및 속성')에서 태그 안의 속성이 class인 경우\n",
    "* '태그.class_속성값'으로 원하는 요소를 추출"
   ]
  },
  {
   "cell_type": "markdown",
   "id": "bd824244",
   "metadata": {},
   "source": [
    "* HTML 소스 파일은 이미 저장돼 있으므로 텍스트 파일을 읽어와서 변수 html3에 할당"
   ]
  },
  {
   "cell_type": "code",
   "execution_count": 55,
   "id": "4302080b",
   "metadata": {},
   "outputs": [],
   "source": [
    "f = open('C:\\JupyterTest\\HTML_example_my_site.html', encoding='utf-8')\n",
    "\n",
    "html3 = f.read()\n",
    "f.close()\n",
    "\n",
    "soup3 = BeautifulSoup(html3, \"lxml\")"
   ]
  },
  {
   "cell_type": "markdown",
   "id": "45c1fe03",
   "metadata": {},
   "source": [
    "* 읽어온 HTML 소스에서 태그가 a인 요소를 모두 가져오기"
   ]
  },
  {
   "cell_type": "code",
   "execution_count": 56,
   "id": "4dcd90c6",
   "metadata": {},
   "outputs": [
    {
     "data": {
      "text/plain": [
       "[<a class=\"portal\" href=\"http://www.naver.com\" id=\"naver\">네이버</a>,\n",
       " <a class=\"search\" href=\"https://www.google.com\" id=\"google\">구글</a>,\n",
       " <a class=\"portal\" href=\"http://www.daum.net\" id=\"daum\">다음</a>,\n",
       " <a class=\"government\" href=\"http://www.nl.go.kr\" id=\"nl\">국립중앙도서관</a>]"
      ]
     },
     "execution_count": 56,
     "metadata": {},
     "output_type": "execute_result"
    }
   ],
   "source": [
    "soup3.select('a')"
   ]
  },
  {
   "cell_type": "markdown",
   "id": "8ea06b39",
   "metadata": {},
   "source": [
    "* HTML 소스에서 태그가 a이면서 class 속성값이 \"portal\"인 요소만 가져오기"
   ]
  },
  {
   "cell_type": "code",
   "execution_count": 58,
   "id": "1a844964",
   "metadata": {},
   "outputs": [
    {
     "data": {
      "text/plain": [
       "[<a class=\"portal\" href=\"http://www.naver.com\" id=\"naver\">네이버</a>,\n",
       " <a class=\"portal\" href=\"http://www.daum.net\" id=\"daum\">다음</a>]"
      ]
     },
     "execution_count": 58,
     "metadata": {},
     "output_type": "execute_result"
    }
   ],
   "source": [
    "soup3.select('a.portal')"
   ]
  },
  {
   "cell_type": "markdown",
   "id": "0a027f3f",
   "metadata": {},
   "source": [
    "#### 웹 브라우저 요소 검사\n",
    "\n",
    "\n",
    "* soup3.select('html body a')\n",
    "* soup3.select('body a')\n",
    "* soup3.select('html a')\n",
    "* soup3.select('a')"
   ]
  },
  {
   "cell_type": "markdown",
   "id": "e5a0bcf8",
   "metadata": {},
   "source": [
    "* 'BeautifulSoup.select('태그 및 속성')의 인자로 a만 입력해 태그 a를 포함하는 모든 요소를 추출"
   ]
  },
  {
   "cell_type": "code",
   "execution_count": 60,
   "id": "1f0d22d4",
   "metadata": {
    "scrolled": true
   },
   "outputs": [
    {
     "data": {
      "text/plain": [
       "[<a class=\"portal\" href=\"http://www.naver.com\" id=\"naver\">네이버</a>,\n",
       " <a class=\"search\" href=\"https://www.google.com\" id=\"google\">구글</a>,\n",
       " <a class=\"portal\" href=\"http://www.daum.net\" id=\"daum\">다음</a>,\n",
       " <a class=\"government\" href=\"http://www.nl.go.kr\" id=\"nl\">국립중앙도서관</a>]"
      ]
     },
     "execution_count": 60,
     "metadata": {},
     "output_type": "execute_result"
    }
   ],
   "source": [
    "soup3.select('a')"
   ]
  },
  {
   "cell_type": "markdown",
   "id": "e0069e0a",
   "metadata": {},
   "source": [
    "* 태그를 포함하는 요소 중 id 속성이 \"naver\"인 요소를 선택"
   ]
  },
  {
   "cell_type": "code",
   "execution_count": 61,
   "id": "06958ce2",
   "metadata": {},
   "outputs": [
    {
     "data": {
      "text/plain": [
       "[<a class=\"portal\" href=\"http://www.naver.com\" id=\"naver\">네이버</a>]"
      ]
     },
     "execution_count": 61,
     "metadata": {},
     "output_type": "execute_result"
    }
   ],
   "source": [
    "soup3.select('a#naver')"
   ]
  },
  {
   "cell_type": "markdown",
   "id": "84d2b170",
   "metadata": {},
   "source": [
    "---"
   ]
  },
  {
   "cell_type": "markdown",
   "id": "485b7ecc",
   "metadata": {},
   "source": [
    "#### 줄 바꿈으로 가독성 높이기"
   ]
  },
  {
   "cell_type": "markdown",
   "id": "20048aa7",
   "metadata": {},
   "source": [
    "* HTML 소스 코드를 파일('"
   ]
  },
  {
   "cell_type": "code",
   "execution_count": 62,
   "id": "7998b909",
   "metadata": {},
   "outputs": [
    {
     "name": "stdout",
     "output_type": "stream",
     "text": [
      "Writing C:\\JupyterTest\\br_example_constitution.html\n"
     ]
    }
   ],
   "source": [
    "%%writefile C:\\JupyterTest\\br_example_constitution.html\n",
    "<!doctype html>\n",
    "<html>\n",
    "  <head>\n",
    "    <meta charset=\"utf-8\">\n",
    "    <title>줄 바꿈 테스트 예제</title>\n",
    "  </head>\n",
    "  <body>\n",
    "  <p id=\"title\"><b>대한민국헌법</b></p>\n",
    "  <p id=\"content\">제1조 <br/>①대한민국은 민주공화국이다.<br/>②대한민국의 주권은 국민에게 있고, 모든 권력은 국민으로부터 나온다.</p>\n",
    "  <p id=\"content\">제2조 <br/>①대한민국의 국민이 되는 요건은 법률로 정한다.<br/>②국가는 법률이 정하는 바에 의하여 재외국민을 보호할 의무를 진다.</p>\n",
    "  </body>\n",
    "</html>"
   ]
  },
  {
   "cell_type": "code",
   "execution_count": null,
   "id": "1cdcf29d",
   "metadata": {},
   "outputs": [],
   "source": []
  },
  {
   "cell_type": "code",
   "execution_count": 65,
   "id": "9085cc8f",
   "metadata": {},
   "outputs": [
    {
     "name": "stdout",
     "output_type": "stream",
     "text": [
      "대한민국헌법\n",
      "제1조 ①대한민국은 민주공화국이다.②대한민국의 주권은 국민에게 있고, 모든 권력은 국민으로부터 나온다.\n",
      "제2조 ①대한민국의 국민이 되는 요건은 법률로 정한다.②국가는 법률이 정하는 바에 의하여 재외국민을 보호할 의무를 진다.\n"
     ]
    }
   ],
   "source": [
    "from bs4 import BeautifulSoup\n",
    "\n",
    "f = open(r'C:\\JupyterTest\\br_example_constitution.html', encoding='utf-8')\n",
    "\n",
    "html_source = f.read()\n",
    "f.close()\n",
    "\n",
    "soup = BeautifulSoup(html_source, \"lxml\")\n",
    "\n",
    "title = soup.find('p', {\"id\":\"title\"})\n",
    "contents = soup.find_all('p', {\"id\":\"content\"})\n",
    "\n",
    "print(title.get_text())\n",
    "for content in contents:\n",
    "    print(content.get_text())"
   ]
  },
  {
   "cell_type": "code",
   "execution_count": null,
   "id": "b339c277",
   "metadata": {},
   "outputs": [],
   "source": []
  },
  {
   "cell_type": "code",
   "execution_count": 69,
   "id": "a2e0c23c",
   "metadata": {},
   "outputs": [
    {
     "name": "stdout",
     "output_type": "stream",
     "text": [
      "==> 태그 p로 찾은 요소\n",
      "<p id=\"content\">제1조 <br/>①대한민국은 민주공화국이다.<br/>②대한민국의 주권은 국민에게 있고, 모든 권력은 국민으로부터 나온다.</p>\n",
      "==> 결과에서 태그 br로 찾은 요소: <br/>\n",
      "==> 태그 br을 개행 문자로 바꾼 결과\n",
      "<p id=\"content\">제1조 \n",
      "①대한민국은 민주공화국이다.<br/>②대한민국의 주권은 국민에게 있고, 모든 권력은 국민으로부터 나온다.</p>\n"
     ]
    }
   ],
   "source": [
    "html1= '<p id=\"content\">제1조 <br/>①대한민국은 민주공화국이다.<br/>②대한민국의 주권은 국민에게 있고, 모든 권력은 국민으로부터 나온다.</p>'\n",
    "\n",
    "soup1 = BeautifulSoup(html1, \"lxml\")\n",
    "\n",
    "print(\"==> 태그 p로 찾은 요소\")\n",
    "content1 = soup1.find('p', {\"id\":\"content\"})\n",
    "print(content1)\n",
    "\n",
    "\n",
    "br_content = content1.find(\"br\")\n",
    "print(\"==> 결과에서 태그 br로 찾은 요소:\", br_content)\n",
    "\n",
    "\n",
    "br_content.replace_with(\"\\n\")\n",
    "print(\"==> 태그 br을 개행 문자로 바꾼 결과\")\n",
    "print(content1)"
   ]
  },
  {
   "cell_type": "code",
   "execution_count": null,
   "id": "9ae02bbd",
   "metadata": {},
   "outputs": [],
   "source": []
  },
  {
   "cell_type": "code",
   "execution_count": 72,
   "id": "fd5fa3a1",
   "metadata": {},
   "outputs": [
    {
     "name": "stdout",
     "output_type": "stream",
     "text": [
      "<p id=\"content\">제1조 \n",
      "①대한민국은 민주공화국이다.\n",
      "②대한민국의 주권은 국민에게 있고, 모든 권력은 국민으로부터 나온다.</p>\n"
     ]
    }
   ],
   "source": [
    "soup2 = BeautifulSoup(html1, \"lxml\")\n",
    "content2 = soup2.find('p', {\"id\":\"content\"})\n",
    "\n",
    "br_contents = content2.find_all(\"br\")\n",
    "for br_content in br_contents:\n",
    "    br_content.replace_with(\"\\n\")\n",
    "print(content2)"
   ]
  },
  {
   "cell_type": "code",
   "execution_count": null,
   "id": "d92f2181",
   "metadata": {},
   "outputs": [],
   "source": []
  },
  {
   "cell_type": "code",
   "execution_count": 73,
   "id": "3224785c",
   "metadata": {},
   "outputs": [],
   "source": [
    "def replace_newline(soup_html):\n",
    "    br_to_newlines = soup_html.find_all(\"br\")\n",
    "    for br_to_newline in br_to_newlines:\n",
    "        br_to_newline.replace_with(\"\\n\")\n",
    "    return soup_html"
   ]
  },
  {
   "cell_type": "code",
   "execution_count": null,
   "id": "bab039cd",
   "metadata": {},
   "outputs": [],
   "source": []
  },
  {
   "cell_type": "code",
   "execution_count": 75,
   "id": "7b6fcfa8",
   "metadata": {},
   "outputs": [
    {
     "name": "stdout",
     "output_type": "stream",
     "text": [
      "제1조 \n",
      "①대한민국은 민주공화국이다.\n",
      "②대한민국의 주권은 국민에게 있고, 모든 권력은 국민으로부터 나온다.\n"
     ]
    }
   ],
   "source": [
    "soup2 = BeautifulSoup(html1, \"lxml\")\n",
    "content2 = soup2.find('p', {\"id\":\"content\"})\n",
    "content3 = replace_newline(content2)\n",
    "print(content3.get_text())"
   ]
  },
  {
   "cell_type": "code",
   "execution_count": null,
   "id": "f747322a",
   "metadata": {},
   "outputs": [],
   "source": []
  },
  {
   "cell_type": "code",
   "execution_count": 76,
   "id": "e3ed2e80",
   "metadata": {
    "scrolled": false
   },
   "outputs": [
    {
     "name": "stdout",
     "output_type": "stream",
     "text": [
      "대한민국헌법 \n",
      "\n",
      "제1조 \n",
      "①대한민국은 민주공화국이다.\n",
      "②대한민국의 주권은 국민에게 있고, 모든 권력은 국민으로부터 나온다. \n",
      "\n",
      "제2조 \n",
      "①대한민국의 국민이 되는 요건은 법률로 정한다.\n",
      "②국가는 법률이 정하는 바에 의하여 재외국민을 보호할 의무를 진다. \n",
      "\n"
     ]
    }
   ],
   "source": [
    "from bs4 import BeautifulSoup\n",
    "\n",
    "soup = BeautifulSoup(html_source, \"lxml\")\n",
    "\n",
    "title = soup.find('p',{\"id\":\"title\"})\n",
    "contents = soup.find_all('p',{\"id\":\"content\"})\n",
    "\n",
    "print(title.get_text(), '\\n')\n",
    "\n",
    "for content in contents:\n",
    "    content1 = replace_newline(content)\n",
    "    print(content1.get_text(),'\\n')"
   ]
  },
  {
   "cell_type": "markdown",
   "id": "083f3195",
   "metadata": {},
   "source": [
    "---"
   ]
  },
  {
   "cell_type": "markdown",
   "id": "a5d0a00f",
   "metadata": {},
   "source": [
    "### 이미지 다운로드 받기"
   ]
  },
  {
   "cell_type": "markdown",
   "id": "04f49e38",
   "metadata": {},
   "source": [
    "1. 이미지 한개를 다운받을 때 (이미지 url 알고 있음)"
   ]
  },
  {
   "cell_type": "code",
   "execution_count": 79,
   "id": "6ae4be48",
   "metadata": {},
   "outputs": [
    {
     "data": {
      "text/plain": [
       "<Response [200]>"
      ]
     },
     "execution_count": 79,
     "metadata": {},
     "output_type": "execute_result"
    }
   ],
   "source": [
    "import requests\n",
    "\n",
    "url = 'https://www.python.org/static/img/python-logo.png'\n",
    "html_image = requests.get(url)\n",
    "html_image"
   ]
  },
  {
   "cell_type": "code",
   "execution_count": null,
   "id": "4f5e7634",
   "metadata": {},
   "outputs": [],
   "source": []
  },
  {
   "cell_type": "code",
   "execution_count": 81,
   "id": "dde2c013",
   "metadata": {},
   "outputs": [
    {
     "data": {
      "text/plain": [
       "'python-logo.png'"
      ]
     },
     "execution_count": 81,
     "metadata": {},
     "output_type": "execute_result"
    }
   ],
   "source": [
    "import os\n",
    "\n",
    "image_file_name = os.path.basename(url)\n",
    "image_file_name"
   ]
  },
  {
   "cell_type": "code",
   "execution_count": null,
   "id": "6edf47ad",
   "metadata": {},
   "outputs": [],
   "source": []
  },
  {
   "cell_type": "code",
   "execution_count": 82,
   "id": "5224243f",
   "metadata": {},
   "outputs": [],
   "source": [
    "folder = 'C:\\JupyterTest\\download'\n",
    "\n",
    "if not os.path.exists(folder):\n",
    "    os.makedirs(folder)"
   ]
  },
  {
   "cell_type": "code",
   "execution_count": null,
   "id": "cabe5c8f",
   "metadata": {},
   "outputs": [],
   "source": []
  },
  {
   "cell_type": "code",
   "execution_count": 83,
   "id": "13004451",
   "metadata": {},
   "outputs": [
    {
     "data": {
      "text/plain": [
       "'C:\\\\JupyterTest\\\\download\\\\python-logo.png'"
      ]
     },
     "execution_count": 83,
     "metadata": {},
     "output_type": "execute_result"
    }
   ],
   "source": [
    "image_path = os.path.join(folder, image_file_name)\n",
    "image_path"
   ]
  },
  {
   "cell_type": "code",
   "execution_count": null,
   "id": "b22a52e6",
   "metadata": {},
   "outputs": [],
   "source": []
  },
  {
   "cell_type": "code",
   "execution_count": 84,
   "id": "397b2a76",
   "metadata": {},
   "outputs": [],
   "source": [
    "imageFile = open(image_path, 'wb')"
   ]
  },
  {
   "cell_type": "code",
   "execution_count": null,
   "id": "8cd3286c",
   "metadata": {},
   "outputs": [],
   "source": []
  },
  {
   "cell_type": "code",
   "execution_count": 85,
   "id": "081c8959",
   "metadata": {},
   "outputs": [],
   "source": [
    "# 이미지 데이터를 1000000 바이트씩 나눠서 내려받고 파일에 순차적으로 저장\n",
    "chunk_size = 1000000\n",
    "for chunk in html_image.iter_content(chunk_size):\n",
    "    imageFile.write(chunk)\n",
    "imageFile.close()"
   ]
  },
  {
   "cell_type": "code",
   "execution_count": null,
   "id": "99a001d6",
   "metadata": {},
   "outputs": [],
   "source": []
  },
  {
   "cell_type": "code",
   "execution_count": 86,
   "id": "23466d9c",
   "metadata": {
    "scrolled": true
   },
   "outputs": [
    {
     "data": {
      "text/plain": [
       "['python-logo.png']"
      ]
     },
     "execution_count": 86,
     "metadata": {},
     "output_type": "execute_result"
    }
   ],
   "source": [
    "os.listdir(folder)"
   ]
  },
  {
   "cell_type": "code",
   "execution_count": 88,
   "id": "9a3ca03f",
   "metadata": {},
   "outputs": [],
   "source": [
    "import requests\n",
    "import os\n",
    "\n",
    "url = 'https://www.python.org/static/img/python-logo.png'\n",
    "html_image = requests.get(url)\n",
    "image_file_name = os.path.basename(url)\n",
    "\n",
    "folder = 'C:\\JupyterTest\\download'\n",
    "\n",
    "if not os.path.exists(folder):\n",
    "    os.makedirs(folder)\n",
    "    \n",
    "image_path = os.path.join(folder, image_file_name)\n",
    "\n",
    "imageFile = open(image_path, 'wb')\n",
    "\n",
    "chunk_size = 1000000\n",
    "for chunk in html_image.iter_content(chunk_size):\n",
    "    imageFile.write(chunk)\n",
    "imageFile.close()"
   ]
  },
  {
   "cell_type": "code",
   "execution_count": null,
   "id": "65847717",
   "metadata": {},
   "outputs": [],
   "source": []
  },
  {
   "cell_type": "markdown",
   "id": "51e98cc1",
   "metadata": {},
   "source": [
    "---"
   ]
  },
  {
   "cell_type": "markdown",
   "id": "bca08afc",
   "metadata": {},
   "source": [
    "2. 여러 이미지 다운로드(url을 알고 있음)"
   ]
  },
  {
   "cell_type": "code",
   "execution_count": 89,
   "id": "77de5d7f",
   "metadata": {},
   "outputs": [
    {
     "data": {
      "text/plain": [
       "[<img alt=\"Reshot\" height=\"33\" src=\"https://www.reshot.com/build/reshot-logo--mark-f8dfafbc1cc8fbf4dfa0e2f210265735aefa6e32f883b5a1fe27fd94f84719b3.svg\" title=\"Reshot\" width=\"46\"/>,\n",
       " <img alt=\"External link\" height=\"12\" loading=\"lazy\" src=\"https://www.reshot.com/build/photos/external-link-arrow-52c40e51b7c58258feac171c83a56c8484bf490ac15b614762274080ba230f7f.svg\" width=\"12\"/>,\n",
       " <img alt=\"External link\" height=\"12\" loading=\"lazy\" src=\"https://www.reshot.com/build/photos/external-link-arrow-52c40e51b7c58258feac171c83a56c8484bf490ac15b614762274080ba230f7f.svg\" width=\"12\"/>,\n",
       " <img alt=\"Reshot\" class=\"global-footer__logo-image\" height=\"82\" src=\"https://www.reshot.com/build/reshot-logo--mark-f8dfafbc1cc8fbf4dfa0e2f210265735aefa6e32f883b5a1fe27fd94f84719b3.svg\" title=\"Reshot\" width=\"113\"/>]"
      ]
     },
     "execution_count": 89,
     "metadata": {},
     "output_type": "execute_result"
    }
   ],
   "source": [
    "import requests\n",
    "from bs4 import BeautifulSoup\n",
    "\n",
    "URL = 'https://reshot.com/search/animal'\n",
    "\n",
    "html_reshot_image = requests.get(URL).text\n",
    "soup_reshot_image = BeautifulSoup(html_reshot_image, \"lxml\")\n",
    "reshot_image_elements = soup_reshot_image.select('a img')\n",
    "reshot_image_elements[0:4]"
   ]
  },
  {
   "cell_type": "code",
   "execution_count": null,
   "id": "e600a87d",
   "metadata": {},
   "outputs": [],
   "source": []
  },
  {
   "cell_type": "code",
   "execution_count": 90,
   "id": "0060bae1",
   "metadata": {},
   "outputs": [
    {
     "data": {
      "text/plain": [
       "'https://www.reshot.com/build/photos/external-link-arrow-52c40e51b7c58258feac171c83a56c8484bf490ac15b614762274080ba230f7f.svg'"
      ]
     },
     "execution_count": 90,
     "metadata": {},
     "output_type": "execute_result"
    }
   ],
   "source": [
    "reshot_image_url = reshot_image_elements[1].get('src')\n",
    "reshot_image_url"
   ]
  },
  {
   "cell_type": "code",
   "execution_count": null,
   "id": "a3c3d113",
   "metadata": {},
   "outputs": [],
   "source": []
  },
  {
   "cell_type": "code",
   "execution_count": 93,
   "id": "c7b21a8f",
   "metadata": {},
   "outputs": [],
   "source": [
    "html_image = requests.get(reshot_image_url)\n",
    "\n",
    "folder = 'C:\\JupyterTest\\download'\n",
    "\n",
    "# os.path.basename(URL)는 웹사이트나 폴더가 포함된 파일명에서 파일명만 분리\n",
    "imageFile = open(os.path.join(folder, os.path.basename(reshot_image_url)), 'wb')\n",
    "\n",
    "# 이미지 데이터를 1000000 바이트씩 나눠서 저장하는 방법\n",
    "chunk_size = 1000000\n",
    "for chunk in html_image.iter_content(chunk_size):\n",
    "    imageFile.write(chunk)\n",
    "imageFile.close()"
   ]
  },
  {
   "cell_type": "code",
   "execution_count": null,
   "id": "893074e0",
   "metadata": {},
   "outputs": [],
   "source": []
  },
  {
   "cell_type": "code",
   "execution_count": 106,
   "id": "cad199b8",
   "metadata": {},
   "outputs": [
    {
     "name": "stdout",
     "output_type": "stream",
     "text": [
      "이미지 파일명: 'reshot-logo--mark-f8dfafbc1cc8fbf4dfa0e2f210265735aefa6e32f883b5a1fe27fd94f84719b3.svg'. 내려받기 완료!\n",
      "이미지 파일명: 'icon-no-photos-034c2399566c35bc56688f11795abdadf83f3c88fd167216a17ed55c2d65c73e.svg'. 내려받기 완료!\n",
      "이미지 파일명: 'external-link-arrow-52c40e51b7c58258feac171c83a56c8484bf490ac15b614762274080ba230f7f.svg'. 내려받기 완료!\n",
      "이미지 파일명: 'royalty-free-graphics-32a2c20ff5eac776239816c834473050da29fb8b36f19d25558cfdca7a6635da.png'. 내려받기 완료!\n",
      "이미지 파일명: 'elements-logo-c261bed7471105c650a86955a75ac1e08024ebe5c905547be1aae0274ac10eef.svg'. 내려받기 완료!\n",
      "이미지 파일명: 'external-link-arrow-52c40e51b7c58258feac171c83a56c8484bf490ac15b614762274080ba230f7f.svg'. 내려받기 완료!\n",
      "이미지 파일명: 'reshot-logo--mark-f8dfafbc1cc8fbf4dfa0e2f210265735aefa6e32f883b5a1fe27fd94f84719b3.svg'. 내려받기 완료!\n",
      "==================================\n",
      "선택한 모든 이미지 내려받기 완료!\n"
     ]
    }
   ],
   "source": [
    "import requests\n",
    "from bs4 import BeautifulSoup\n",
    "import os\n",
    "\n",
    "# URL(주소)에서 이미지 주소 추출\n",
    "def get_image_url(url):\n",
    "    html_image_url = requests.get(url).text\n",
    "    soup_image_url = BeautifulSoup(html_image_url, \"lxml\")\n",
    "    image_elements = soup_image_url.select('img')\n",
    "    if(image_elements != None):\n",
    "        image_urls = []\n",
    "        for image_element in image_elements:\n",
    "            image_urls.append(image_element.get('src'))\n",
    "        return image_urls\n",
    "    else:\n",
    "        return None\n",
    "    \n",
    "# 폴더를 지정해 이미지 주소에서 이미지 내려받기\n",
    "\n",
    "def download_image(img_folder, img_url):\n",
    "    if (img_url != None):\n",
    "        html_image = requests.get(img_url)\n",
    "        imageFile = open(os.path.join(img_folder, os.path.basename(img_url)),'wb')\n",
    "        \n",
    "        chunk_size = 1000000\n",
    "        for chunk in html_image.iter_content(chunk_size):\n",
    "            imageFile.write(chunk)\n",
    "        imageFile.close()\n",
    "        print(\"이미지 파일명: '{0}'. 내려받기 완료!\".format(os.path.basename(img_url)))\n",
    "    else:\n",
    "        print(\"내려받을 이미지가 없습니다.\")\n",
    "        \n",
    "        \n",
    "# 웹사이트의 주소 지정\n",
    "reshot_url = 'https://reshot.com/search/animal'\n",
    "\n",
    "figure_folder = 'C:\\JupyterTest\\download'\n",
    "\n",
    "reshot_image_urls = get_image_url(reshot_url)\n",
    "\n",
    "num_of_download_image = 7\n",
    "\n",
    "for k in range(num_of_download_image):\n",
    "    download_image(figure_folder,reshot_image_urls[k])\n",
    "print(\"==================================\")\n",
    "print(\"선택한 모든 이미지 내려받기 완료!\")\n",
    "            "
   ]
  },
  {
   "cell_type": "code",
   "execution_count": null,
   "id": "ea2e7347",
   "metadata": {},
   "outputs": [],
   "source": []
  },
  {
   "cell_type": "code",
   "execution_count": null,
   "id": "9d983f51",
   "metadata": {},
   "outputs": [],
   "source": []
  },
  {
   "cell_type": "code",
   "execution_count": null,
   "id": "9eeb861e",
   "metadata": {},
   "outputs": [],
   "source": []
  }
 ],
 "metadata": {
  "kernelspec": {
   "display_name": "Python 3 (ipykernel)",
   "language": "python",
   "name": "python3"
  },
  "language_info": {
   "codemirror_mode": {
    "name": "ipython",
    "version": 3
   },
   "file_extension": ".py",
   "mimetype": "text/x-python",
   "name": "python",
   "nbconvert_exporter": "python",
   "pygments_lexer": "ipython3",
   "version": "3.9.13"
  }
 },
 "nbformat": 4,
 "nbformat_minor": 5
}
